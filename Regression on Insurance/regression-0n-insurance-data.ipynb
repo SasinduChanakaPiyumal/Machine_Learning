{
 "cells": [
  {
   "cell_type": "code",
   "execution_count": 1,
   "metadata": {
    "_cell_guid": "b1076dfc-b9ad-4769-8c92-a6c4dae69d19",
    "_uuid": "8f2839f25d086af736a60e9eeb907d3b93b6e0e5",
    "execution": {
     "iopub.execute_input": "2024-12-11T05:31:55.629948Z",
     "iopub.status.busy": "2024-12-11T05:31:55.629565Z",
     "iopub.status.idle": "2024-12-11T05:31:56.098261Z",
     "shell.execute_reply": "2024-12-11T05:31:56.097182Z",
     "shell.execute_reply.started": "2024-12-11T05:31:55.629912Z"
    }
   },
   "outputs": [],
   "source": [
    "# This Python 3 environment comes with many helpful analytics libraries installed\n",
    "# It is defined by the kaggle/python Docker image: https://github.com/kaggle/docker-python\n",
    "# For example, here's several helpful packages to load\n",
    "\n",
    "import numpy as np # linear algebra\n",
    "import pandas as pd # data processing, CSV file I/O (e.g. pd.read_csv)\n",
    "\n",
    "# Input data files are available in the read-only \"../input/\" directory\n",
    "# For example, running this (by clicking run or pressing Shift+Enter) will list all files under the input directory\n",
    "\n",
    "import os\n",
    "for dirname, _, filenames in os.walk('/kaggle/input'):\n",
    "    for filename in filenames:\n",
    "        print(os.path.join(dirname, filename))\n",
    "\n",
    "# You can write up to 20GB to the current directory (/kaggle/working/) that gets preserved as output when you create a version using \"Save & Run All\" \n",
    "# You can also write temporary files to /kaggle/temp/, but they won't be saved outside of the current session"
   ]
  },
  {
   "cell_type": "code",
   "execution_count": 2,
   "metadata": {
    "execution": {
     "iopub.execute_input": "2024-12-11T05:32:35.770231Z",
     "iopub.status.busy": "2024-12-11T05:32:35.769851Z",
     "iopub.status.idle": "2024-12-11T05:32:36.610228Z",
     "shell.execute_reply": "2024-12-11T05:32:36.609299Z",
     "shell.execute_reply.started": "2024-12-11T05:32:35.770197Z"
    }
   },
   "outputs": [],
   "source": [
    "import matplotlib.pyplot as plt\n",
    "import seaborn as sns\n",
    "\n",
    "import warnings\n",
    "warnings.filterwarnings('ignore')"
   ]
  },
  {
   "cell_type": "markdown",
   "metadata": {},
   "source": [
    "## Import Datasets"
   ]
  },
  {
   "cell_type": "code",
   "execution_count": 6,
   "metadata": {
    "execution": {
     "iopub.execute_input": "2024-12-11T05:35:31.720303Z",
     "iopub.status.busy": "2024-12-11T05:35:31.719681Z",
     "iopub.status.idle": "2024-12-11T05:35:31.725505Z",
     "shell.execute_reply": "2024-12-11T05:35:31.724266Z",
     "shell.execute_reply.started": "2024-12-11T05:35:31.720265Z"
    }
   },
   "outputs": [],
   "source": [
    "test_path = 'Z:\\\\Sasindu\\\\Data set\\\\Insurance\\\\test.csv'\n",
    "train_path = 'Z:\\\\Sasindu\\\\Data set\\\\Insurance\\\\train.csv'"
   ]
  },
  {
   "cell_type": "code",
   "execution_count": 7,
   "metadata": {
    "execution": {
     "iopub.execute_input": "2024-12-11T05:36:12.770504Z",
     "iopub.status.busy": "2024-12-11T05:36:12.770110Z",
     "iopub.status.idle": "2024-12-11T05:36:22.817761Z",
     "shell.execute_reply": "2024-12-11T05:36:22.816783Z",
     "shell.execute_reply.started": "2024-12-11T05:36:12.770472Z"
    }
   },
   "outputs": [],
   "source": [
    "test_set = pd.read_csv(test_path)\n",
    "train_set = pd.read_csv(train_path)"
   ]
  },
  {
   "cell_type": "code",
   "execution_count": 8,
   "metadata": {
    "execution": {
     "iopub.execute_input": "2024-12-11T05:36:36.930198Z",
     "iopub.status.busy": "2024-12-11T05:36:36.929776Z",
     "iopub.status.idle": "2024-12-11T05:36:36.935461Z",
     "shell.execute_reply": "2024-12-11T05:36:36.934118Z",
     "shell.execute_reply.started": "2024-12-11T05:36:36.930164Z"
    }
   },
   "outputs": [],
   "source": [
    "test_df = pd.DataFrame(test_set)\n",
    "train_df = pd.DataFrame(train_set)"
   ]
  },
  {
   "cell_type": "code",
   "execution_count": 9,
   "metadata": {
    "execution": {
     "iopub.execute_input": "2024-12-11T05:36:51.069710Z",
     "iopub.status.busy": "2024-12-11T05:36:51.069271Z",
     "iopub.status.idle": "2024-12-11T05:36:51.108427Z",
     "shell.execute_reply": "2024-12-11T05:36:51.107455Z",
     "shell.execute_reply.started": "2024-12-11T05:36:51.069675Z"
    }
   },
   "outputs": [
    {
     "data": {
      "text/html": [
       "<div>\n",
       "<style scoped>\n",
       "    .dataframe tbody tr th:only-of-type {\n",
       "        vertical-align: middle;\n",
       "    }\n",
       "\n",
       "    .dataframe tbody tr th {\n",
       "        vertical-align: top;\n",
       "    }\n",
       "\n",
       "    .dataframe thead th {\n",
       "        text-align: right;\n",
       "    }\n",
       "</style>\n",
       "<table border=\"1\" class=\"dataframe\">\n",
       "  <thead>\n",
       "    <tr style=\"text-align: right;\">\n",
       "      <th></th>\n",
       "      <th>id</th>\n",
       "      <th>Age</th>\n",
       "      <th>Gender</th>\n",
       "      <th>Annual Income</th>\n",
       "      <th>Marital Status</th>\n",
       "      <th>Number of Dependents</th>\n",
       "      <th>Education Level</th>\n",
       "      <th>Occupation</th>\n",
       "      <th>Health Score</th>\n",
       "      <th>Location</th>\n",
       "      <th>...</th>\n",
       "      <th>Previous Claims</th>\n",
       "      <th>Vehicle Age</th>\n",
       "      <th>Credit Score</th>\n",
       "      <th>Insurance Duration</th>\n",
       "      <th>Policy Start Date</th>\n",
       "      <th>Customer Feedback</th>\n",
       "      <th>Smoking Status</th>\n",
       "      <th>Exercise Frequency</th>\n",
       "      <th>Property Type</th>\n",
       "      <th>Premium Amount</th>\n",
       "    </tr>\n",
       "  </thead>\n",
       "  <tbody>\n",
       "    <tr>\n",
       "      <th>0</th>\n",
       "      <td>0</td>\n",
       "      <td>19.0</td>\n",
       "      <td>Female</td>\n",
       "      <td>10049.0</td>\n",
       "      <td>Married</td>\n",
       "      <td>1.0</td>\n",
       "      <td>Bachelor's</td>\n",
       "      <td>Self-Employed</td>\n",
       "      <td>22.598761</td>\n",
       "      <td>Urban</td>\n",
       "      <td>...</td>\n",
       "      <td>2.0</td>\n",
       "      <td>17.0</td>\n",
       "      <td>372.0</td>\n",
       "      <td>5.0</td>\n",
       "      <td>2023-12-23 15:21:39.134960</td>\n",
       "      <td>Poor</td>\n",
       "      <td>No</td>\n",
       "      <td>Weekly</td>\n",
       "      <td>House</td>\n",
       "      <td>2869.0</td>\n",
       "    </tr>\n",
       "    <tr>\n",
       "      <th>1</th>\n",
       "      <td>1</td>\n",
       "      <td>39.0</td>\n",
       "      <td>Female</td>\n",
       "      <td>31678.0</td>\n",
       "      <td>Divorced</td>\n",
       "      <td>3.0</td>\n",
       "      <td>Master's</td>\n",
       "      <td>NaN</td>\n",
       "      <td>15.569731</td>\n",
       "      <td>Rural</td>\n",
       "      <td>...</td>\n",
       "      <td>1.0</td>\n",
       "      <td>12.0</td>\n",
       "      <td>694.0</td>\n",
       "      <td>2.0</td>\n",
       "      <td>2023-06-12 15:21:39.111551</td>\n",
       "      <td>Average</td>\n",
       "      <td>Yes</td>\n",
       "      <td>Monthly</td>\n",
       "      <td>House</td>\n",
       "      <td>1483.0</td>\n",
       "    </tr>\n",
       "    <tr>\n",
       "      <th>2</th>\n",
       "      <td>2</td>\n",
       "      <td>23.0</td>\n",
       "      <td>Male</td>\n",
       "      <td>25602.0</td>\n",
       "      <td>Divorced</td>\n",
       "      <td>3.0</td>\n",
       "      <td>High School</td>\n",
       "      <td>Self-Employed</td>\n",
       "      <td>47.177549</td>\n",
       "      <td>Suburban</td>\n",
       "      <td>...</td>\n",
       "      <td>1.0</td>\n",
       "      <td>14.0</td>\n",
       "      <td>NaN</td>\n",
       "      <td>3.0</td>\n",
       "      <td>2023-09-30 15:21:39.221386</td>\n",
       "      <td>Good</td>\n",
       "      <td>Yes</td>\n",
       "      <td>Weekly</td>\n",
       "      <td>House</td>\n",
       "      <td>567.0</td>\n",
       "    </tr>\n",
       "    <tr>\n",
       "      <th>3</th>\n",
       "      <td>3</td>\n",
       "      <td>21.0</td>\n",
       "      <td>Male</td>\n",
       "      <td>141855.0</td>\n",
       "      <td>Married</td>\n",
       "      <td>2.0</td>\n",
       "      <td>Bachelor's</td>\n",
       "      <td>NaN</td>\n",
       "      <td>10.938144</td>\n",
       "      <td>Rural</td>\n",
       "      <td>...</td>\n",
       "      <td>1.0</td>\n",
       "      <td>0.0</td>\n",
       "      <td>367.0</td>\n",
       "      <td>1.0</td>\n",
       "      <td>2024-06-12 15:21:39.226954</td>\n",
       "      <td>Poor</td>\n",
       "      <td>Yes</td>\n",
       "      <td>Daily</td>\n",
       "      <td>Apartment</td>\n",
       "      <td>765.0</td>\n",
       "    </tr>\n",
       "    <tr>\n",
       "      <th>4</th>\n",
       "      <td>4</td>\n",
       "      <td>21.0</td>\n",
       "      <td>Male</td>\n",
       "      <td>39651.0</td>\n",
       "      <td>Single</td>\n",
       "      <td>1.0</td>\n",
       "      <td>Bachelor's</td>\n",
       "      <td>Self-Employed</td>\n",
       "      <td>20.376094</td>\n",
       "      <td>Rural</td>\n",
       "      <td>...</td>\n",
       "      <td>0.0</td>\n",
       "      <td>8.0</td>\n",
       "      <td>598.0</td>\n",
       "      <td>4.0</td>\n",
       "      <td>2021-12-01 15:21:39.252145</td>\n",
       "      <td>Poor</td>\n",
       "      <td>Yes</td>\n",
       "      <td>Weekly</td>\n",
       "      <td>House</td>\n",
       "      <td>2022.0</td>\n",
       "    </tr>\n",
       "  </tbody>\n",
       "</table>\n",
       "<p>5 rows × 21 columns</p>\n",
       "</div>"
      ],
      "text/plain": [
       "   id   Age  Gender  Annual Income Marital Status  Number of Dependents  \\\n",
       "0   0  19.0  Female        10049.0        Married                   1.0   \n",
       "1   1  39.0  Female        31678.0       Divorced                   3.0   \n",
       "2   2  23.0    Male        25602.0       Divorced                   3.0   \n",
       "3   3  21.0    Male       141855.0        Married                   2.0   \n",
       "4   4  21.0    Male        39651.0         Single                   1.0   \n",
       "\n",
       "  Education Level     Occupation  Health Score  Location  ... Previous Claims  \\\n",
       "0      Bachelor's  Self-Employed     22.598761     Urban  ...             2.0   \n",
       "1        Master's            NaN     15.569731     Rural  ...             1.0   \n",
       "2     High School  Self-Employed     47.177549  Suburban  ...             1.0   \n",
       "3      Bachelor's            NaN     10.938144     Rural  ...             1.0   \n",
       "4      Bachelor's  Self-Employed     20.376094     Rural  ...             0.0   \n",
       "\n",
       "   Vehicle Age  Credit Score  Insurance Duration           Policy Start Date  \\\n",
       "0         17.0         372.0                 5.0  2023-12-23 15:21:39.134960   \n",
       "1         12.0         694.0                 2.0  2023-06-12 15:21:39.111551   \n",
       "2         14.0           NaN                 3.0  2023-09-30 15:21:39.221386   \n",
       "3          0.0         367.0                 1.0  2024-06-12 15:21:39.226954   \n",
       "4          8.0         598.0                 4.0  2021-12-01 15:21:39.252145   \n",
       "\n",
       "  Customer Feedback Smoking Status Exercise Frequency Property Type  \\\n",
       "0              Poor             No             Weekly         House   \n",
       "1           Average            Yes            Monthly         House   \n",
       "2              Good            Yes             Weekly         House   \n",
       "3              Poor            Yes              Daily     Apartment   \n",
       "4              Poor            Yes             Weekly         House   \n",
       "\n",
       "  Premium Amount  \n",
       "0         2869.0  \n",
       "1         1483.0  \n",
       "2          567.0  \n",
       "3          765.0  \n",
       "4         2022.0  \n",
       "\n",
       "[5 rows x 21 columns]"
      ]
     },
     "execution_count": 9,
     "metadata": {},
     "output_type": "execute_result"
    }
   ],
   "source": [
    "train_df.head()"
   ]
  },
  {
   "cell_type": "code",
   "execution_count": 10,
   "metadata": {
    "execution": {
     "iopub.execute_input": "2024-12-11T05:37:17.570286Z",
     "iopub.status.busy": "2024-12-11T05:37:17.569876Z",
     "iopub.status.idle": "2024-12-11T05:37:17.576322Z",
     "shell.execute_reply": "2024-12-11T05:37:17.575195Z",
     "shell.execute_reply.started": "2024-12-11T05:37:17.570253Z"
    }
   },
   "outputs": [
    {
     "name": "stdout",
     "output_type": "stream",
     "text": [
      "Shape of train dataset --> (1200000, 21)\n",
      "Shape of test dataset --> (800000, 20)\n"
     ]
    }
   ],
   "source": [
    "print('Shape of train dataset -->',train_df.shape)\n",
    "print('Shape of test dataset -->',test_df.shape)"
   ]
  },
  {
   "cell_type": "markdown",
   "metadata": {},
   "source": [
    "## Checking Null Values and data types"
   ]
  },
  {
   "cell_type": "code",
   "execution_count": 11,
   "metadata": {
    "execution": {
     "iopub.execute_input": "2024-12-11T05:37:53.290783Z",
     "iopub.status.busy": "2024-12-11T05:37:53.290309Z",
     "iopub.status.idle": "2024-12-11T05:37:53.952206Z",
     "shell.execute_reply": "2024-12-11T05:37:53.951133Z",
     "shell.execute_reply.started": "2024-12-11T05:37:53.290748Z"
    }
   },
   "outputs": [
    {
     "name": "stdout",
     "output_type": "stream",
     "text": [
      "<class 'pandas.core.frame.DataFrame'>\n",
      "RangeIndex: 1200000 entries, 0 to 1199999\n",
      "Data columns (total 21 columns):\n",
      " #   Column                Non-Null Count    Dtype  \n",
      "---  ------                --------------    -----  \n",
      " 0   id                    1200000 non-null  int64  \n",
      " 1   Age                   1181295 non-null  float64\n",
      " 2   Gender                1200000 non-null  object \n",
      " 3   Annual Income         1155051 non-null  float64\n",
      " 4   Marital Status        1181471 non-null  object \n",
      " 5   Number of Dependents  1090328 non-null  float64\n",
      " 6   Education Level       1200000 non-null  object \n",
      " 7   Occupation            841925 non-null   object \n",
      " 8   Health Score          1125924 non-null  float64\n",
      " 9   Location              1200000 non-null  object \n",
      " 10  Policy Type           1200000 non-null  object \n",
      " 11  Previous Claims       835971 non-null   float64\n",
      " 12  Vehicle Age           1199994 non-null  float64\n",
      " 13  Credit Score          1062118 non-null  float64\n",
      " 14  Insurance Duration    1199999 non-null  float64\n",
      " 15  Policy Start Date     1200000 non-null  object \n",
      " 16  Customer Feedback     1122176 non-null  object \n",
      " 17  Smoking Status        1200000 non-null  object \n",
      " 18  Exercise Frequency    1200000 non-null  object \n",
      " 19  Property Type         1200000 non-null  object \n",
      " 20  Premium Amount        1200000 non-null  float64\n",
      "dtypes: float64(9), int64(1), object(11)\n",
      "memory usage: 192.3+ MB\n"
     ]
    }
   ],
   "source": [
    "train_df.info()"
   ]
  },
  {
   "cell_type": "code",
   "execution_count": 12,
   "metadata": {
    "execution": {
     "iopub.execute_input": "2024-12-11T05:38:09.372201Z",
     "iopub.status.busy": "2024-12-11T05:38:09.371395Z",
     "iopub.status.idle": "2024-12-11T05:38:10.005694Z",
     "shell.execute_reply": "2024-12-11T05:38:10.004658Z",
     "shell.execute_reply.started": "2024-12-11T05:38:09.372162Z"
    }
   },
   "outputs": [
    {
     "data": {
      "text/plain": [
       "id                           0\n",
       "Age                      18705\n",
       "Gender                       0\n",
       "Annual Income            44949\n",
       "Marital Status           18529\n",
       "Number of Dependents    109672\n",
       "Education Level              0\n",
       "Occupation              358075\n",
       "Health Score             74076\n",
       "Location                     0\n",
       "Policy Type                  0\n",
       "Previous Claims         364029\n",
       "Vehicle Age                  6\n",
       "Credit Score            137882\n",
       "Insurance Duration           1\n",
       "Policy Start Date            0\n",
       "Customer Feedback        77824\n",
       "Smoking Status               0\n",
       "Exercise Frequency           0\n",
       "Property Type                0\n",
       "Premium Amount               0\n",
       "dtype: int64"
      ]
     },
     "execution_count": 12,
     "metadata": {},
     "output_type": "execute_result"
    }
   ],
   "source": [
    "train_df.isnull().sum()"
   ]
  },
  {
   "cell_type": "code",
   "execution_count": 13,
   "metadata": {
    "execution": {
     "iopub.execute_input": "2024-12-11T05:39:27.580869Z",
     "iopub.status.busy": "2024-12-11T05:39:27.580388Z",
     "iopub.status.idle": "2024-12-11T05:39:28.006759Z",
     "shell.execute_reply": "2024-12-11T05:39:28.005718Z",
     "shell.execute_reply.started": "2024-12-11T05:39:27.580833Z"
    }
   },
   "outputs": [
    {
     "data": {
      "text/plain": [
       "id                           0\n",
       "Age                      12489\n",
       "Gender                       0\n",
       "Annual Income            29860\n",
       "Marital Status           12336\n",
       "Number of Dependents     73130\n",
       "Education Level              0\n",
       "Occupation              239125\n",
       "Health Score             49449\n",
       "Location                     0\n",
       "Policy Type                  0\n",
       "Previous Claims         242802\n",
       "Vehicle Age                  3\n",
       "Credit Score             91451\n",
       "Insurance Duration           2\n",
       "Policy Start Date            0\n",
       "Customer Feedback        52276\n",
       "Smoking Status               0\n",
       "Exercise Frequency           0\n",
       "Property Type                0\n",
       "dtype: int64"
      ]
     },
     "execution_count": 13,
     "metadata": {},
     "output_type": "execute_result"
    }
   ],
   "source": [
    "test_df.isnull().sum()"
   ]
  },
  {
   "cell_type": "markdown",
   "metadata": {},
   "source": [
    "## EDA"
   ]
  },
  {
   "cell_type": "code",
   "execution_count": 14,
   "metadata": {
    "execution": {
     "iopub.execute_input": "2024-12-11T05:40:19.850867Z",
     "iopub.status.busy": "2024-12-11T05:40:19.850302Z",
     "iopub.status.idle": "2024-12-11T05:41:11.979628Z",
     "shell.execute_reply": "2024-12-11T05:41:11.978549Z",
     "shell.execute_reply.started": "2024-12-11T05:40:19.850824Z"
    }
   },
   "outputs": [
    {
     "data": {
      "image/png": "[encoded data removed]",
      "text/plain": [
       "<Figure size 864x288 with 2 Axes>"
      ]
     },
     "metadata": {
      "needs_background": "light"
     },
     "output_type": "display_data"
    },
    {
     "data": {
      "image/png": "[encoded data removed]",
      "text/plain": [
       "<Figure size 864x288 with 2 Axes>"
      ]
     },
     "metadata": {
      "needs_background": "light"
     },
     "output_type": "display_data"
    },
    {
     "data": {
      "image/png": "[encoded data removed]",
      "text/plain": [
       "<Figure size 864x288 with 2 Axes>"
      ]
     },
     "metadata": {
      "needs_background": "light"
     },
     "output_type": "display_data"
    },
    {
     "data": {
      "image/png": "[encoded data removed]",
      "text/plain": [
       "<Figure size 864x288 with 2 Axes>"
      ]
     },
     "metadata": {
      "needs_background": "light"
     },
     "output_type": "display_data"
    },
    {
     "data": {
      "image/png": "[encoded data removed]",
      "text/plain": [
       "<Figure size 864x288 with 2 Axes>"
      ]
     },
     "metadata": {
      "needs_background": "light"
     },
     "output_type": "display_data"
    },
    {
     "data": {
      "image/png": "[encoded data removed]",
      "text/plain": [
       "<Figure size 864x288 with 2 Axes>"
      ]
     },
     "metadata": {
      "needs_background": "light"
     },
     "output_type": "display_data"
    },
    {
     "data": {
      "image/png": "[encoded data removed]",
      "text/plain": [
       "<Figure size 864x288 with 2 Axes>"
      ]
     },
     "metadata": {
      "needs_background": "light"
     },
     "output_type": "display_data"
    },
    {
     "data": {
      "image/png": "[encoded data removed]",
      "text/plain": [
       "<Figure size 864x288 with 2 Axes>"
      ]
     },
     "metadata": {
      "needs_background": "light"
     },
     "output_type": "display_data"
    },
    {
     "data": {
      "image/png": "[encoded data removed]",
      "text/plain": [
       "<Figure size 864x288 with 2 Axes>"
      ]
     },
     "metadata": {
      "needs_background": "light"
     },
     "output_type": "display_data"
    }
   ],
   "source": [
    "sns.set(style=\"whitegrid\")\n",
    "numeric_columns = train_df.select_dtypes(include=['number']).columns\n",
    "numeric_columns_without_id = [col for col in numeric_columns if col != 'id']\n",
    "\n",
    "for col in numeric_columns_without_id:\n",
    "    plt.figure(figsize=(12, 4))\n",
    "    plt.subplot(1, 2, 1)\n",
    "    sns.histplot(train_df[col], kde=True)\n",
    "    plt.subplot(1, 2, 2)\n",
    "    sns.boxplot(x=train_df[col])\n",
    "    plt.tight_layout()\n",
    "    plt.show()"
   ]
  },
  {
   "cell_type": "markdown",
   "metadata": {},
   "source": [
    "### Distribution of Annual Income with Gender"
   ]
  },
  {
   "cell_type": "code",
   "execution_count": 15,
   "metadata": {
    "execution": {
     "iopub.execute_input": "2024-12-11T05:42:32.132135Z",
     "iopub.status.busy": "2024-12-11T05:42:32.131253Z",
     "iopub.status.idle": "2024-12-11T05:42:33.627838Z",
     "shell.execute_reply": "2024-12-11T05:42:33.626777Z",
     "shell.execute_reply.started": "2024-12-11T05:42:32.132091Z"
    }
   },
   "outputs": [
    {
     "data": {
      "image/png": "[encoded data removed]",
      "text/plain": [
       "<Figure size 1080x576 with 1 Axes>"
      ]
     },
     "metadata": {
      "needs_background": "light"
     },
     "output_type": "display_data"
    }
   ],
   "source": [
    "plt.figure(figsize=(15, 8))\n",
    "sns.boxplot(x = 'Gender' , y='Annual Income',data = train_df, hue = 'Gender')\n",
    "plt.ylabel(\"Gender\")\n",
    "plt.title('Distribution of Annual Income with Gender')\n",
    "plt.show()"
   ]
  },
  {
   "cell_type": "markdown",
   "metadata": {},
   "source": [
    "### Distribution of Annual Income with Education Level"
   ]
  },
  {
   "cell_type": "code",
   "execution_count": 16,
   "metadata": {
    "execution": {
     "iopub.execute_input": "2024-12-11T05:43:12.771549Z",
     "iopub.status.busy": "2024-12-11T05:43:12.770515Z",
     "iopub.status.idle": "2024-12-11T05:43:14.754242Z",
     "shell.execute_reply": "2024-12-11T05:43:14.753173Z",
     "shell.execute_reply.started": "2024-12-11T05:43:12.771505Z"
    }
   },
   "outputs": [
    {
     "data": {
      "image/png": "[encoded data removed]",
      "text/plain": [
       "<Figure size 1080x576 with 1 Axes>"
      ]
     },
     "metadata": {
      "needs_background": "light"
     },
     "output_type": "display_data"
    }
   ],
   "source": [
    "plt.figure(figsize=(15, 8))\n",
    "sns.boxplot(x = 'Education Level' ,y='Annual Income',data = train_df,hue ='Education Level')\n",
    "plt.title('Distribution of Annual Income with Education Level')\n",
    "plt.show()"
   ]
  },
  {
   "cell_type": "markdown",
   "metadata": {},
   "source": [
    "### Distribution of Annual Income with Location"
   ]
  },
  {
   "cell_type": "code",
   "execution_count": 17,
   "metadata": {
    "execution": {
     "iopub.execute_input": "2024-12-11T05:43:52.091090Z",
     "iopub.status.busy": "2024-12-11T05:43:52.090114Z",
     "iopub.status.idle": "2024-12-11T05:43:53.963838Z",
     "shell.execute_reply": "2024-12-11T05:43:53.962805Z",
     "shell.execute_reply.started": "2024-12-11T05:43:52.091042Z"
    }
   },
   "outputs": [
    {
     "data": {
      "image/png": "[encoded data removed]",
      "text/plain": [
       "<Figure size 1080x576 with 1 Axes>"
      ]
     },
     "metadata": {
      "needs_background": "light"
     },
     "output_type": "display_data"
    }
   ],
   "source": [
    "plt.figure(figsize=(15, 8))\n",
    "sns.boxplot(x = 'Location' ,y='Annual Income',data = train_df,hue ='Location')\n",
    "plt.title('Distribution of Annual Income with Location')\n",
    "plt.show()"
   ]
  },
  {
   "cell_type": "markdown",
   "metadata": {
    "execution": {
     "iopub.execute_input": "2024-12-11T05:44:11.125638Z",
     "iopub.status.busy": "2024-12-11T05:44:11.125187Z",
     "iopub.status.idle": "2024-12-11T05:44:11.130309Z",
     "shell.execute_reply": "2024-12-11T05:44:11.129204Z",
     "shell.execute_reply.started": "2024-12-11T05:44:11.125600Z"
    }
   },
   "source": [
    "### Distribution of Health Score with Gender"
   ]
  },
  {
   "cell_type": "code",
   "execution_count": 18,
   "metadata": {
    "execution": {
     "iopub.execute_input": "2024-12-11T05:44:28.335600Z",
     "iopub.status.busy": "2024-12-11T05:44:28.335112Z",
     "iopub.status.idle": "2024-12-11T05:44:29.704508Z",
     "shell.execute_reply": "2024-12-11T05:44:29.703268Z",
     "shell.execute_reply.started": "2024-12-11T05:44:28.335561Z"
    }
   },
   "outputs": [
    {
     "data": {
      "image/png": "[encoded data removed]",
      "text/plain": [
       "<Figure size 1080x576 with 1 Axes>"
      ]
     },
     "metadata": {
      "needs_background": "light"
     },
     "output_type": "display_data"
    }
   ],
   "source": [
    "plt.figure(figsize=(15, 8))\n",
    "sns.boxplot(x = 'Gender' ,y='Health Score',data = train_df,hue ='Gender')\n",
    "plt.title('Distribution of Health Score with Gender')\n",
    "plt.show()"
   ]
  },
  {
   "cell_type": "markdown",
   "metadata": {},
   "source": [
    "### Distribution of Health Score with Occupation"
   ]
  },
  {
   "cell_type": "code",
   "execution_count": 19,
   "metadata": {
    "execution": {
     "iopub.execute_input": "2024-12-11T05:45:09.102841Z",
     "iopub.status.busy": "2024-12-11T05:45:09.102094Z",
     "iopub.status.idle": "2024-12-11T05:45:10.562059Z",
     "shell.execute_reply": "2024-12-11T05:45:10.560935Z",
     "shell.execute_reply.started": "2024-12-11T05:45:09.102780Z"
    }
   },
   "outputs": [
    {
     "data": {
      "image/png": "[encoded data removed]",
      "text/plain": [
       "<Figure size 1080x576 with 1 Axes>"
      ]
     },
     "metadata": {
      "needs_background": "light"
     },
     "output_type": "display_data"
    }
   ],
   "source": [
    "plt.figure(figsize=(15, 8))\n",
    "sns.boxplot(x = 'Occupation' ,y='Health Score',data = train_df,hue ='Occupation')\n",
    "plt.title('Distribution of Health Score with Occupation')\n",
    "plt.show()"
   ]
  },
  {
   "cell_type": "markdown",
   "metadata": {
    "execution": {
     "iopub.execute_input": "2024-12-11T05:45:30.140535Z",
     "iopub.status.busy": "2024-12-11T05:45:30.140054Z",
     "iopub.status.idle": "2024-12-11T05:45:30.145676Z",
     "shell.execute_reply": "2024-12-11T05:45:30.144501Z",
     "shell.execute_reply.started": "2024-12-11T05:45:30.140499Z"
    }
   },
   "source": [
    "### Distribution of Health Score with Location"
   ]
  },
  {
   "cell_type": "code",
   "execution_count": 20,
   "metadata": {
    "execution": {
     "iopub.execute_input": "2024-12-11T05:45:46.960476Z",
     "iopub.status.busy": "2024-12-11T05:45:46.960044Z",
     "iopub.status.idle": "2024-12-11T05:45:48.383363Z",
     "shell.execute_reply": "2024-12-11T05:45:48.382291Z",
     "shell.execute_reply.started": "2024-12-11T05:45:46.960442Z"
    }
   },
   "outputs": [
    {
     "data": {
      "image/png": "[encoded data removed]",
      "text/plain": [
       "<Figure size 1080x576 with 1 Axes>"
      ]
     },
     "metadata": {
      "needs_background": "light"
     },
     "output_type": "display_data"
    }
   ],
   "source": [
    "plt.figure(figsize=(15, 8))\n",
    "sns.boxplot(x = 'Location' ,y='Health Score',data = train_df,hue ='Location')\n",
    "plt.title('Distribution of Health Score with Location')\n",
    "plt.show()"
   ]
  },
  {
   "cell_type": "markdown",
   "metadata": {},
   "source": [
    "### EDA For categorical columns"
   ]
  },
  {
   "cell_type": "code",
   "execution_count": 21,
   "metadata": {
    "execution": {
     "iopub.execute_input": "2024-12-11T05:46:39.770843Z",
     "iopub.status.busy": "2024-12-11T05:46:39.770457Z",
     "iopub.status.idle": "2024-12-11T05:46:39.776153Z",
     "shell.execute_reply": "2024-12-11T05:46:39.774813Z",
     "shell.execute_reply.started": "2024-12-11T05:46:39.770806Z"
    }
   },
   "outputs": [],
   "source": [
    "categorical_columns = ['Gender', 'Marital Status', 'Education Level', 'Occupation', 'Location',\n",
    "       'Policy Type', 'Customer Feedback',\n",
    "       'Smoking Status', 'Exercise Frequency', 'Property Type']"
   ]
  },
  {
   "cell_type": "code",
   "execution_count": 22,
   "metadata": {
    "execution": {
     "iopub.execute_input": "2024-12-11T05:46:49.250596Z",
     "iopub.status.busy": "2024-12-11T05:46:49.250197Z",
     "iopub.status.idle": "2024-12-11T05:47:04.702774Z",
     "shell.execute_reply": "2024-12-11T05:47:04.701576Z",
     "shell.execute_reply.started": "2024-12-11T05:46:49.250559Z"
    }
   },
   "outputs": [
    {
     "data": {
      "image/png": "[encoded data removed]",
      "text/plain": [
       "<Figure size 1296x2880 with 10 Axes>"
      ]
     },
     "metadata": {
      "needs_background": "light"
     },
     "output_type": "display_data"
    }
   ],
   "source": [
    "plt.figure(figsize=(18,40))\n",
    "for i,column in enumerate(categorical_columns, 1):\n",
    "    plt.subplot(5,2,i)\n",
    "    sns.countplot(x=column, data=train_df, hue = column)\n",
    "    plt.title(f'Distribution of {column}')\n",
    "plt.tight_layout()\n",
    "plt.show()"
   ]
  },
  {
   "cell_type": "markdown",
   "metadata": {
    "execution": {
     "iopub.execute_input": "2024-12-11T05:50:47.450445Z",
     "iopub.status.busy": "2024-12-11T05:50:47.449992Z",
     "iopub.status.idle": "2024-12-11T05:50:47.455263Z",
     "shell.execute_reply": "2024-12-11T05:50:47.454257Z",
     "shell.execute_reply.started": "2024-12-11T05:50:47.450394Z"
    }
   },
   "source": [
    "## Fill null values of Numerical Columns"
   ]
  },
  {
   "cell_type": "markdown",
   "metadata": {},
   "source": [
    "### Fill Null values of Age column, and Number of Dependents."
   ]
  },
  {
   "cell_type": "markdown",
   "metadata": {},
   "source": [
    "#### According to Histograms and boxplots, Age , Number of Dependents columns has uniform distribution. Hance , I dicided to fill null values of those variables randomly which values in it's range."
   ]
  },
  {
   "cell_type": "code",
   "execution_count": 23,
   "metadata": {
    "execution": {
     "iopub.execute_input": "2024-12-11T05:53:11.656033Z",
     "iopub.status.busy": "2024-12-11T05:53:11.655176Z",
     "iopub.status.idle": "2024-12-11T05:53:11.661488Z",
     "shell.execute_reply": "2024-12-11T05:53:11.660142Z",
     "shell.execute_reply.started": "2024-12-11T05:53:11.655995Z"
    }
   },
   "outputs": [],
   "source": [
    "def random_fill_null(df,var):\n",
    "    non_null = df[var].dropna()\n",
    "    df[var] = df[var].apply(lambda x: np.random.choice(non_null) if pd.isna(x) else x)"
   ]
  },
  {
   "cell_type": "code",
   "execution_count": 24,
   "metadata": {
    "execution": {
     "iopub.execute_input": "2024-12-11T05:53:22.059922Z",
     "iopub.status.busy": "2024-12-11T05:53:22.059503Z",
     "iopub.status.idle": "2024-12-11T05:53:24.310892Z",
     "shell.execute_reply": "2024-12-11T05:53:24.310018Z",
     "shell.execute_reply.started": "2024-12-11T05:53:22.059890Z"
    }
   },
   "outputs": [],
   "source": [
    "random_fill_null(test_df,'Age')\n",
    "random_fill_null(train_df,'Age')"
   ]
  },
  {
   "cell_type": "code",
   "execution_count": 25,
   "metadata": {
    "execution": {
     "iopub.execute_input": "2024-12-11T05:53:31.455861Z",
     "iopub.status.busy": "2024-12-11T05:53:31.455106Z",
     "iopub.status.idle": "2024-12-11T05:53:37.461600Z",
     "shell.execute_reply": "2024-12-11T05:53:37.460502Z",
     "shell.execute_reply.started": "2024-12-11T05:53:31.455821Z"
    }
   },
   "outputs": [],
   "source": [
    "random_fill_null(test_df,'Number of Dependents')\n",
    "random_fill_null(train_df,'Number of Dependents')"
   ]
  },
  {
   "cell_type": "markdown",
   "metadata": {},
   "source": [
    "### Fill Null values of Annual Income, Previous Claims, Credit Score, and Insurance Duration column"
   ]
  },
  {
   "cell_type": "markdown",
   "metadata": {},
   "source": [
    "#### According to Histograms and boxplots, mentioned columns has skewed distribution. Hence, null values were filled using median."
   ]
  },
  {
   "cell_type": "code",
   "execution_count": 26,
   "metadata": {
    "execution": {
     "iopub.execute_input": "2024-12-11T05:55:37.695960Z",
     "iopub.status.busy": "2024-12-11T05:55:37.695440Z",
     "iopub.status.idle": "2024-12-11T05:55:37.701464Z",
     "shell.execute_reply": "2024-12-11T05:55:37.700217Z",
     "shell.execute_reply.started": "2024-12-11T05:55:37.695925Z"
    }
   },
   "outputs": [],
   "source": [
    "def median_fill_null(df,var):\n",
    "    median_value = df[var].median()\n",
    "    df[var] = df[var].fillna(median_value)"
   ]
  },
  {
   "cell_type": "code",
   "execution_count": 27,
   "metadata": {
    "execution": {
     "iopub.execute_input": "2024-12-11T05:55:46.880161Z",
     "iopub.status.busy": "2024-12-11T05:55:46.879766Z",
     "iopub.status.idle": "2024-12-11T05:55:46.941594Z",
     "shell.execute_reply": "2024-12-11T05:55:46.940686Z",
     "shell.execute_reply.started": "2024-12-11T05:55:46.880128Z"
    }
   },
   "outputs": [],
   "source": [
    "median_fill_null(train_df,'Annual Income')\n",
    "median_fill_null(test_df,'Annual Income')"
   ]
  },
  {
   "cell_type": "code",
   "execution_count": 28,
   "metadata": {
    "execution": {
     "iopub.execute_input": "2024-12-11T05:55:54.935742Z",
     "iopub.status.busy": "2024-12-11T05:55:54.935273Z",
     "iopub.status.idle": "2024-12-11T05:55:54.997541Z",
     "shell.execute_reply": "2024-12-11T05:55:54.996612Z",
     "shell.execute_reply.started": "2024-12-11T05:55:54.935707Z"
    }
   },
   "outputs": [],
   "source": [
    "median_fill_null(train_df,'Previous Claims')\n",
    "median_fill_null(test_df,'Previous Claims')"
   ]
  },
  {
   "cell_type": "code",
   "execution_count": 29,
   "metadata": {
    "execution": {
     "iopub.execute_input": "2024-12-11T05:56:02.515649Z",
     "iopub.status.busy": "2024-12-11T05:56:02.515244Z",
     "iopub.status.idle": "2024-12-11T05:56:02.572338Z",
     "shell.execute_reply": "2024-12-11T05:56:02.571186Z",
     "shell.execute_reply.started": "2024-12-11T05:56:02.515614Z"
    }
   },
   "outputs": [],
   "source": [
    "median_fill_null(train_df,'Credit Score')\n",
    "median_fill_null(test_df,'Credit Score')"
   ]
  },
  {
   "cell_type": "code",
   "execution_count": 30,
   "metadata": {
    "execution": {
     "iopub.execute_input": "2024-12-11T05:56:12.695291Z",
     "iopub.status.busy": "2024-12-11T05:56:12.694904Z",
     "iopub.status.idle": "2024-12-11T05:56:12.754384Z",
     "shell.execute_reply": "2024-12-11T05:56:12.753559Z",
     "shell.execute_reply.started": "2024-12-11T05:56:12.695254Z"
    }
   },
   "outputs": [],
   "source": [
    "median_fill_null(train_df,'Insurance Duration')\n",
    "median_fill_null(test_df,'Insurance Duration')"
   ]
  },
  {
   "cell_type": "markdown",
   "metadata": {},
   "source": [
    "### Fill Null values of Health Score, and Vehicle Age column"
   ]
  },
  {
   "cell_type": "markdown",
   "metadata": {},
   "source": [
    "#### Above mentioned variables are normally distributed. Hence, those null values were filled using the Mean."
   ]
  },
  {
   "cell_type": "code",
   "execution_count": 31,
   "metadata": {
    "execution": {
     "iopub.execute_input": "2024-12-11T05:57:04.630336Z",
     "iopub.status.busy": "2024-12-11T05:57:04.629545Z",
     "iopub.status.idle": "2024-12-11T05:57:04.635151Z",
     "shell.execute_reply": "2024-12-11T05:57:04.633902Z",
     "shell.execute_reply.started": "2024-12-11T05:57:04.630299Z"
    }
   },
   "outputs": [],
   "source": [
    "def mean_fill_null(df,var):\n",
    "    mean_value = df[var].mean()\n",
    "    df[var] = df[var].fillna(mean_value)"
   ]
  },
  {
   "cell_type": "code",
   "execution_count": 32,
   "metadata": {
    "execution": {
     "iopub.execute_input": "2024-12-11T05:57:12.290775Z",
     "iopub.status.busy": "2024-12-11T05:57:12.290114Z",
     "iopub.status.idle": "2024-12-11T05:57:12.318196Z",
     "shell.execute_reply": "2024-12-11T05:57:12.316937Z",
     "shell.execute_reply.started": "2024-12-11T05:57:12.290737Z"
    }
   },
   "outputs": [],
   "source": [
    "mean_fill_null(train_df,'Health Score')\n",
    "mean_fill_null(test_df,'Health Score')"
   ]
  },
  {
   "cell_type": "code",
   "execution_count": 33,
   "metadata": {
    "execution": {
     "iopub.execute_input": "2024-12-11T05:57:19.299657Z",
     "iopub.status.busy": "2024-12-11T05:57:19.299275Z",
     "iopub.status.idle": "2024-12-11T05:57:19.324523Z",
     "shell.execute_reply": "2024-12-11T05:57:19.323591Z",
     "shell.execute_reply.started": "2024-12-11T05:57:19.299626Z"
    }
   },
   "outputs": [],
   "source": [
    "mean_fill_null(train_df,'Vehicle Age')\n",
    "mean_fill_null(test_df,'Vehicle Age')"
   ]
  },
  {
   "cell_type": "markdown",
   "metadata": {},
   "source": [
    "## Fill Null values of Categorical Columns"
   ]
  },
  {
   "cell_type": "markdown",
   "metadata": {},
   "source": [
    "#### Because of having lot of missing values, Unknown data is allocated to new category as unknown."
   ]
  },
  {
   "cell_type": "code",
   "execution_count": 34,
   "metadata": {
    "execution": {
     "iopub.execute_input": "2024-12-11T05:58:14.191099Z",
     "iopub.status.busy": "2024-12-11T05:58:14.190092Z",
     "iopub.status.idle": "2024-12-11T05:58:14.196510Z",
     "shell.execute_reply": "2024-12-11T05:58:14.195267Z",
     "shell.execute_reply.started": "2024-12-11T05:58:14.191055Z"
    }
   },
   "outputs": [],
   "source": [
    "categorical_columns = ['Occupation','Marital Status','Customer Feedback']\n",
    "\n",
    "def fill_catogory(df):\n",
    "    for column in categorical_columns:\n",
    "        df[column] = df[column].astype('category')\n",
    "        df[column] = df[column].cat.add_categories(['Unknown'])\n",
    "        df[column] = df[column].fillna('Unknown')"
   ]
  },
  {
   "cell_type": "code",
   "execution_count": 35,
   "metadata": {
    "execution": {
     "iopub.execute_input": "2024-12-11T05:58:22.370228Z",
     "iopub.status.busy": "2024-12-11T05:58:22.369884Z",
     "iopub.status.idle": "2024-12-11T05:58:22.900919Z",
     "shell.execute_reply": "2024-12-11T05:58:22.899756Z",
     "shell.execute_reply.started": "2024-12-11T05:58:22.370197Z"
    }
   },
   "outputs": [],
   "source": [
    "fill_catogory(train_df)\n",
    "fill_catogory(test_df)"
   ]
  },
  {
   "cell_type": "code",
   "execution_count": 36,
   "metadata": {
    "execution": {
     "iopub.execute_input": "2024-12-11T05:58:32.204761Z",
     "iopub.status.busy": "2024-12-11T05:58:32.204313Z",
     "iopub.status.idle": "2024-12-11T05:58:32.682645Z",
     "shell.execute_reply": "2024-12-11T05:58:32.681580Z",
     "shell.execute_reply.started": "2024-12-11T05:58:32.204726Z"
    }
   },
   "outputs": [
    {
     "data": {
      "text/plain": [
       "id                      0\n",
       "Age                     0\n",
       "Gender                  0\n",
       "Annual Income           0\n",
       "Marital Status          0\n",
       "Number of Dependents    0\n",
       "Education Level         0\n",
       "Occupation              0\n",
       "Health Score            0\n",
       "Location                0\n",
       "Policy Type             0\n",
       "Previous Claims         0\n",
       "Vehicle Age             0\n",
       "Credit Score            0\n",
       "Insurance Duration      0\n",
       "Policy Start Date       0\n",
       "Customer Feedback       0\n",
       "Smoking Status          0\n",
       "Exercise Frequency      0\n",
       "Property Type           0\n",
       "Premium Amount          0\n",
       "dtype: int64"
      ]
     },
     "execution_count": 36,
     "metadata": {},
     "output_type": "execute_result"
    }
   ],
   "source": [
    "train_df.isnull().sum()"
   ]
  },
  {
   "cell_type": "code",
   "execution_count": 37,
   "metadata": {
    "execution": {
     "iopub.execute_input": "2024-12-11T05:58:44.329863Z",
     "iopub.status.busy": "2024-12-11T05:58:44.329504Z",
     "iopub.status.idle": "2024-12-11T05:58:44.653315Z",
     "shell.execute_reply": "2024-12-11T05:58:44.652268Z",
     "shell.execute_reply.started": "2024-12-11T05:58:44.329833Z"
    }
   },
   "outputs": [
    {
     "data": {
      "text/plain": [
       "id                      0\n",
       "Age                     0\n",
       "Gender                  0\n",
       "Annual Income           0\n",
       "Marital Status          0\n",
       "Number of Dependents    0\n",
       "Education Level         0\n",
       "Occupation              0\n",
       "Health Score            0\n",
       "Location                0\n",
       "Policy Type             0\n",
       "Previous Claims         0\n",
       "Vehicle Age             0\n",
       "Credit Score            0\n",
       "Insurance Duration      0\n",
       "Policy Start Date       0\n",
       "Customer Feedback       0\n",
       "Smoking Status          0\n",
       "Exercise Frequency      0\n",
       "Property Type           0\n",
       "dtype: int64"
      ]
     },
     "execution_count": 37,
     "metadata": {},
     "output_type": "execute_result"
    }
   ],
   "source": [
    "test_df.isnull().sum()"
   ]
  },
  {
   "cell_type": "markdown",
   "metadata": {},
   "source": [
    "#### All the null values have filled."
   ]
  },
  {
   "cell_type": "markdown",
   "metadata": {},
   "source": [
    "### Check number of unique values in each column."
   ]
  },
  {
   "cell_type": "code",
   "execution_count": 38,
   "metadata": {
    "execution": {
     "iopub.execute_input": "2024-12-11T06:00:54.330918Z",
     "iopub.status.busy": "2024-12-11T06:00:54.330075Z",
     "iopub.status.idle": "2024-12-11T06:00:55.321101Z",
     "shell.execute_reply": "2024-12-11T06:00:55.319952Z",
     "shell.execute_reply.started": "2024-12-11T06:00:54.330877Z"
    }
   },
   "outputs": [
    {
     "name": "stdout",
     "output_type": "stream",
     "text": [
      "id ----> 1200000\n",
      "Age ----> 47\n",
      "Gender ----> 2\n",
      "Annual Income ----> 88593\n",
      "Marital Status ----> 4\n",
      "Number of Dependents ----> 5\n",
      "Education Level ----> 4\n",
      "Occupation ----> 4\n",
      "Health Score ----> 532658\n",
      "Location ----> 3\n",
      "Policy Type ----> 3\n",
      "Previous Claims ----> 10\n",
      "Vehicle Age ----> 21\n",
      "Credit Score ----> 550\n",
      "Insurance Duration ----> 9\n",
      "Policy Start Date ----> 167381\n",
      "Customer Feedback ----> 4\n",
      "Smoking Status ----> 2\n",
      "Exercise Frequency ----> 4\n",
      "Property Type ----> 3\n",
      "Premium Amount ----> 4794\n"
     ]
    }
   ],
   "source": [
    "for col in train_df.columns:\n",
    "    print(col,'---->',train_df[col].nunique())"
   ]
  },
  {
   "cell_type": "markdown",
   "metadata": {},
   "source": [
    "## Checking for Linear Relationship with Premium Amount"
   ]
  },
  {
   "cell_type": "code",
   "execution_count": 39,
   "metadata": {
    "execution": {
     "iopub.execute_input": "2024-12-11T06:01:34.810252Z",
     "iopub.status.busy": "2024-12-11T06:01:34.809854Z",
     "iopub.status.idle": "2024-12-11T06:01:35.306932Z",
     "shell.execute_reply": "2024-12-11T06:01:35.305808Z",
     "shell.execute_reply.started": "2024-12-11T06:01:34.810216Z"
    }
   },
   "outputs": [],
   "source": [
    "numeric_df = train_df.select_dtypes(include = ['number'])\n",
    "corr_matrix = numeric_df.corr()"
   ]
  },
  {
   "cell_type": "code",
   "execution_count": 40,
   "metadata": {
    "execution": {
     "iopub.execute_input": "2024-12-11T06:01:45.371834Z",
     "iopub.status.busy": "2024-12-11T06:01:45.370744Z",
     "iopub.status.idle": "2024-12-11T06:01:45.378800Z",
     "shell.execute_reply": "2024-12-11T06:01:45.377696Z",
     "shell.execute_reply.started": "2024-12-11T06:01:45.371794Z"
    }
   },
   "outputs": [
    {
     "name": "stdout",
     "output_type": "stream",
     "text": [
      "Premium Amount          1.000000\n",
      "Previous Claims         0.039394\n",
      "Health Score            0.014326\n",
      "Vehicle Age             0.000391\n",
      "Insurance Duration     -0.000028\n",
      "id                     -0.000292\n",
      "Number of Dependents   -0.001111\n",
      "Age                    -0.002440\n",
      "Annual Income          -0.009989\n",
      "Credit Score           -0.024471\n"
     ]
    }
   ],
   "source": [
    "print(corr_matrix['Premium Amount'].sort_values(ascending = False).to_string())"
   ]
  },
  {
   "cell_type": "markdown",
   "metadata": {},
   "source": [
    "### Checking for Multicolinearity"
   ]
  },
  {
   "cell_type": "code",
   "execution_count": 41,
   "metadata": {
    "execution": {
     "iopub.execute_input": "2024-12-11T06:02:25.971126Z",
     "iopub.status.busy": "2024-12-11T06:02:25.970240Z",
     "iopub.status.idle": "2024-12-11T06:02:26.660519Z",
     "shell.execute_reply": "2024-12-11T06:02:26.659424Z",
     "shell.execute_reply.started": "2024-12-11T06:02:25.971084Z"
    }
   },
   "outputs": [
    {
     "data": {
      "image/png": "[encoded data removed]",
      "text/plain": [
       "<Figure size 1440x1440 with 2 Axes>"
      ]
     },
     "metadata": {
      "needs_background": "light"
     },
     "output_type": "display_data"
    }
   ],
   "source": [
    "plt.figure(figsize=(20,20))\n",
    "sns.heatmap(corr_matrix,annot=True,cmap = 'coolwarm', fmt = \".2f\")\n",
    "plt.show()"
   ]
  },
  {
   "cell_type": "markdown",
   "metadata": {},
   "source": [
    "#### Here, All the correlation values are very low. So we can conclude that there is no strong linear relationship among variables. Hence, Multicollinearity cannot be identified."
   ]
  },
  {
   "cell_type": "markdown",
   "metadata": {},
   "source": [
    "## Feature Engineering"
   ]
  },
  {
   "cell_type": "markdown",
   "metadata": {},
   "source": [
    "### One hot Encording for Categorical Variables"
   ]
  },
  {
   "cell_type": "markdown",
   "metadata": {},
   "source": [
    "#### One-hot encoding is used to convert categorical data into a numerical format, making it easier for machine learning models to process.Categorical variables often have no inherent order. For instance, the categories \"red\", \"green\", and \"blue\" don’t have a meaningful numeric order, so simply assigning numbers (e.g., 1, 2, 3) could mislead the model into thinking there’s some kind of ordinal relationship. One-hot encoding avoids this issue by representing each category with a binary vector."
   ]
  },
  {
   "cell_type": "code",
   "execution_count": 42,
   "metadata": {
    "execution": {
     "iopub.execute_input": "2024-12-11T06:03:50.002655Z",
     "iopub.status.busy": "2024-12-11T06:03:50.002189Z",
     "iopub.status.idle": "2024-12-11T06:03:50.921244Z",
     "shell.execute_reply": "2024-12-11T06:03:50.920442Z",
     "shell.execute_reply.started": "2024-12-11T06:03:50.002619Z"
    }
   },
   "outputs": [],
   "source": [
    "train_df_encoded = pd.get_dummies(train_df, \n",
    "                                  columns=['Gender', 'Marital Status', 'Education Level', 'Occupation', 'Location',\n",
    "                                           'Policy Type', 'Customer Feedback','Smoking Status',\n",
    "                                           'Exercise Frequency', 'Property Type'],\n",
    "                                  drop_first=False)"
   ]
  },
  {
   "cell_type": "code",
   "execution_count": 43,
   "metadata": {
    "execution": {
     "iopub.execute_input": "2024-12-11T06:04:00.225328Z",
     "iopub.status.busy": "2024-12-11T06:04:00.224921Z",
     "iopub.status.idle": "2024-12-11T06:04:00.770639Z",
     "shell.execute_reply": "2024-12-11T06:04:00.769497Z",
     "shell.execute_reply.started": "2024-12-11T06:04:00.225291Z"
    }
   },
   "outputs": [],
   "source": [
    "test_df_encoded = pd.get_dummies(test_df, \n",
    "                                  columns=['Gender', 'Marital Status', 'Education Level', 'Occupation', 'Location',\n",
    "                                           'Policy Type', 'Customer Feedback','Smoking Status',\n",
    "                                           'Exercise Frequency', 'Property Type'],\n",
    "                                  drop_first=False)"
   ]
  },
  {
   "cell_type": "code",
   "execution_count": 44,
   "metadata": {
    "execution": {
     "iopub.execute_input": "2024-12-11T06:04:10.815695Z",
     "iopub.status.busy": "2024-12-11T06:04:10.815266Z",
     "iopub.status.idle": "2024-12-11T06:04:10.823251Z",
     "shell.execute_reply": "2024-12-11T06:04:10.822009Z",
     "shell.execute_reply.started": "2024-12-11T06:04:10.815657Z"
    }
   },
   "outputs": [
    {
     "data": {
      "text/plain": [
       "(1200000, 44)"
      ]
     },
     "execution_count": 44,
     "metadata": {},
     "output_type": "execute_result"
    }
   ],
   "source": [
    "train_df_encoded.shape"
   ]
  },
  {
   "cell_type": "code",
   "execution_count": 45,
   "metadata": {
    "execution": {
     "iopub.execute_input": "2024-12-11T06:04:17.795956Z",
     "iopub.status.busy": "2024-12-11T06:04:17.795004Z",
     "iopub.status.idle": "2024-12-11T06:04:17.802178Z",
     "shell.execute_reply": "2024-12-11T06:04:17.801339Z",
     "shell.execute_reply.started": "2024-12-11T06:04:17.795912Z"
    }
   },
   "outputs": [
    {
     "data": {
      "text/plain": [
       "(800000, 43)"
      ]
     },
     "execution_count": 45,
     "metadata": {},
     "output_type": "execute_result"
    }
   ],
   "source": [
    "test_df_encoded.shape"
   ]
  },
  {
   "cell_type": "code",
   "execution_count": 46,
   "metadata": {
    "execution": {
     "iopub.execute_input": "2024-12-11T06:04:25.415546Z",
     "iopub.status.busy": "2024-12-11T06:04:25.415134Z",
     "iopub.status.idle": "2024-12-11T06:04:25.422660Z",
     "shell.execute_reply": "2024-12-11T06:04:25.421604Z",
     "shell.execute_reply.started": "2024-12-11T06:04:25.415511Z"
    }
   },
   "outputs": [
    {
     "data": {
      "text/plain": [
       "Index(['id', 'Age', 'Annual Income', 'Number of Dependents', 'Health Score',\n",
       "       'Previous Claims', 'Vehicle Age', 'Credit Score', 'Insurance Duration',\n",
       "       'Policy Start Date', 'Premium Amount', 'Gender_Female', 'Gender_Male',\n",
       "       'Marital Status_Divorced', 'Marital Status_Married',\n",
       "       'Marital Status_Single', 'Marital Status_Unknown',\n",
       "       'Education Level_Bachelor's', 'Education Level_High School',\n",
       "       'Education Level_Master's', 'Education Level_PhD',\n",
       "       'Occupation_Employed', 'Occupation_Self-Employed',\n",
       "       'Occupation_Unemployed', 'Occupation_Unknown', 'Location_Rural',\n",
       "       'Location_Suburban', 'Location_Urban', 'Policy Type_Basic',\n",
       "       'Policy Type_Comprehensive', 'Policy Type_Premium',\n",
       "       'Customer Feedback_Average', 'Customer Feedback_Good',\n",
       "       'Customer Feedback_Poor', 'Customer Feedback_Unknown',\n",
       "       'Smoking Status_No', 'Smoking Status_Yes', 'Exercise Frequency_Daily',\n",
       "       'Exercise Frequency_Monthly', 'Exercise Frequency_Rarely',\n",
       "       'Exercise Frequency_Weekly', 'Property Type_Apartment',\n",
       "       'Property Type_Condo', 'Property Type_House'],\n",
       "      dtype='object')"
      ]
     },
     "execution_count": 46,
     "metadata": {},
     "output_type": "execute_result"
    }
   ],
   "source": [
    "train_df_encoded.columns"
   ]
  },
  {
   "cell_type": "markdown",
   "metadata": {},
   "source": [
    "### Create Features on Policy Start Date"
   ]
  },
  {
   "cell_type": "code",
   "execution_count": 47,
   "metadata": {
    "execution": {
     "iopub.execute_input": "2024-12-11T06:04:57.875079Z",
     "iopub.status.busy": "2024-12-11T06:04:57.874656Z",
     "iopub.status.idle": "2024-12-11T06:04:57.880067Z",
     "shell.execute_reply": "2024-12-11T06:04:57.878948Z",
     "shell.execute_reply.started": "2024-12-11T06:04:57.875042Z"
    }
   },
   "outputs": [],
   "source": [
    "import datetime"
   ]
  },
  {
   "cell_type": "code",
   "execution_count": 48,
   "metadata": {
    "execution": {
     "iopub.execute_input": "2024-12-11T06:05:10.000014Z",
     "iopub.status.busy": "2024-12-11T06:05:09.999469Z",
     "iopub.status.idle": "2024-12-11T06:05:10.007272Z",
     "shell.execute_reply": "2024-12-11T06:05:10.005835Z",
     "shell.execute_reply.started": "2024-12-11T06:05:09.999961Z"
    }
   },
   "outputs": [],
   "source": [
    "def date_encode(df_encoded):\n",
    "    df_encoded['Policy Start Date'] = pd.to_datetime(df_encoded['Policy Start Date'], errors='coerce')\n",
    "    df_encoded['Year'] = df_encoded['Policy Start Date'].dt.year\n",
    "    df_encoded['Month'] = df_encoded['Policy Start Date'].dt.month\n",
    "    df_encoded['WEEK_OF_YEAR'] = df_encoded['Policy Start Date'].dt.isocalendar().week"
   ]
  },
  {
   "cell_type": "code",
   "execution_count": 49,
   "metadata": {
    "execution": {
     "iopub.execute_input": "2024-12-11T06:05:18.735919Z",
     "iopub.status.busy": "2024-12-11T06:05:18.735523Z",
     "iopub.status.idle": "2024-12-11T06:05:19.793384Z",
     "shell.execute_reply": "2024-12-11T06:05:19.792226Z",
     "shell.execute_reply.started": "2024-12-11T06:05:18.735885Z"
    }
   },
   "outputs": [],
   "source": [
    "date_encode(train_df_encoded)\n",
    "date_encode(test_df_encoded)"
   ]
  },
  {
   "cell_type": "markdown",
   "metadata": {},
   "source": [
    "### Transform Date features into sin and cosine"
   ]
  },
  {
   "cell_type": "markdown",
   "metadata": {},
   "source": [
    "#### Typically, Date features such as month, week of year are cyclical. To transform this feature to numeric value. Data scientists use sine, and cosine transformations. Here, I have transformed month and week of year features into sine and cosine."
   ]
  },
  {
   "cell_type": "code",
   "execution_count": 50,
   "metadata": {
    "execution": {
     "iopub.execute_input": "2024-12-11T06:06:11.275718Z",
     "iopub.status.busy": "2024-12-11T06:06:11.275263Z",
     "iopub.status.idle": "2024-12-11T06:06:11.281830Z",
     "shell.execute_reply": "2024-12-11T06:06:11.280631Z",
     "shell.execute_reply.started": "2024-12-11T06:06:11.275683Z"
    }
   },
   "outputs": [],
   "source": [
    "def periodic_transform(dff,variable):\n",
    "    dff[f\"{variable}_SIN\"] = np.sin(dff[variable] / dff[variable].max()*2*np.pi)\n",
    "    dff[f\"{variable}_COS\"] = np.cos(dff[variable] / dff[variable].max()*2*np.pi)\n",
    "    return dff"
   ]
  },
  {
   "cell_type": "code",
   "execution_count": 51,
   "metadata": {
    "execution": {
     "iopub.execute_input": "2024-12-11T06:06:27.014872Z",
     "iopub.status.busy": "2024-12-11T06:06:27.014493Z",
     "iopub.status.idle": "2024-12-11T06:06:27.177374Z",
     "shell.execute_reply": "2024-12-11T06:06:27.176475Z",
     "shell.execute_reply.started": "2024-12-11T06:06:27.014839Z"
    }
   },
   "outputs": [],
   "source": [
    "cyclic_col = ['Month','WEEK_OF_YEAR']\n",
    "\n",
    "for col in cyclic_col:\n",
    "    df_N = periodic_transform(train_df_encoded, col)"
   ]
  },
  {
   "cell_type": "code",
   "execution_count": 52,
   "metadata": {
    "execution": {
     "iopub.execute_input": "2024-12-11T06:06:37.874882Z",
     "iopub.status.busy": "2024-12-11T06:06:37.874510Z",
     "iopub.status.idle": "2024-12-11T06:06:37.971009Z",
     "shell.execute_reply": "2024-12-11T06:06:37.969898Z",
     "shell.execute_reply.started": "2024-12-11T06:06:37.874851Z"
    }
   },
   "outputs": [],
   "source": [
    "train_df_encoded = train_df_encoded.drop(['Policy Start Date','Month','WEEK_OF_YEAR'], axis=1)"
   ]
  },
  {
   "cell_type": "code",
   "execution_count": 53,
   "metadata": {
    "execution": {
     "iopub.execute_input": "2024-12-11T06:06:48.895944Z",
     "iopub.status.busy": "2024-12-11T06:06:48.895294Z",
     "iopub.status.idle": "2024-12-11T06:06:49.078482Z",
     "shell.execute_reply": "2024-12-11T06:06:49.077329Z",
     "shell.execute_reply.started": "2024-12-11T06:06:48.895878Z"
    }
   },
   "outputs": [],
   "source": [
    "for col in cyclic_col:\n",
    "    df_N = periodic_transform(test_df_encoded, col)\n",
    "\n",
    "test_df_encoded = test_df_encoded.drop(['Policy Start Date','Month','WEEK_OF_YEAR'], axis=1)"
   ]
  },
  {
   "cell_type": "code",
   "execution_count": 54,
   "metadata": {
    "execution": {
     "iopub.execute_input": "2024-12-11T06:07:24.635799Z",
     "iopub.status.busy": "2024-12-11T06:07:24.635443Z",
     "iopub.status.idle": "2024-12-11T06:07:24.642447Z",
     "shell.execute_reply": "2024-12-11T06:07:24.641301Z",
     "shell.execute_reply.started": "2024-12-11T06:07:24.635769Z"
    }
   },
   "outputs": [
    {
     "data": {
      "text/plain": [
       "(1200000, 48)"
      ]
     },
     "execution_count": 54,
     "metadata": {},
     "output_type": "execute_result"
    }
   ],
   "source": [
    "train_df_encoded.shape"
   ]
  },
  {
   "cell_type": "code",
   "execution_count": 55,
   "metadata": {
    "execution": {
     "iopub.execute_input": "2024-12-11T06:07:33.635242Z",
     "iopub.status.busy": "2024-12-11T06:07:33.634863Z",
     "iopub.status.idle": "2024-12-11T06:07:33.642863Z",
     "shell.execute_reply": "2024-12-11T06:07:33.641757Z",
     "shell.execute_reply.started": "2024-12-11T06:07:33.635208Z"
    }
   },
   "outputs": [
    {
     "data": {
      "text/plain": [
       "Index(['id', 'Age', 'Annual Income', 'Number of Dependents', 'Health Score',\n",
       "       'Previous Claims', 'Vehicle Age', 'Credit Score', 'Insurance Duration',\n",
       "       'Premium Amount', 'Gender_Female', 'Gender_Male',\n",
       "       'Marital Status_Divorced', 'Marital Status_Married',\n",
       "       'Marital Status_Single', 'Marital Status_Unknown',\n",
       "       'Education Level_Bachelor's', 'Education Level_High School',\n",
       "       'Education Level_Master's', 'Education Level_PhD',\n",
       "       'Occupation_Employed', 'Occupation_Self-Employed',\n",
       "       'Occupation_Unemployed', 'Occupation_Unknown', 'Location_Rural',\n",
       "       'Location_Suburban', 'Location_Urban', 'Policy Type_Basic',\n",
       "       'Policy Type_Comprehensive', 'Policy Type_Premium',\n",
       "       'Customer Feedback_Average', 'Customer Feedback_Good',\n",
       "       'Customer Feedback_Poor', 'Customer Feedback_Unknown',\n",
       "       'Smoking Status_No', 'Smoking Status_Yes', 'Exercise Frequency_Daily',\n",
       "       'Exercise Frequency_Monthly', 'Exercise Frequency_Rarely',\n",
       "       'Exercise Frequency_Weekly', 'Property Type_Apartment',\n",
       "       'Property Type_Condo', 'Property Type_House', 'Year', 'Month_SIN',\n",
       "       'Month_COS', 'WEEK_OF_YEAR_SIN', 'WEEK_OF_YEAR_COS'],\n",
       "      dtype='object')"
      ]
     },
     "execution_count": 55,
     "metadata": {},
     "output_type": "execute_result"
    }
   ],
   "source": [
    "train_df_encoded.columns"
   ]
  },
  {
   "cell_type": "code",
   "execution_count": 56,
   "metadata": {
    "execution": {
     "iopub.execute_input": "2024-12-11T06:07:58.399689Z",
     "iopub.status.busy": "2024-12-11T06:07:58.399229Z",
     "iopub.status.idle": "2024-12-11T06:07:58.604386Z",
     "shell.execute_reply": "2024-12-11T06:07:58.603402Z",
     "shell.execute_reply.started": "2024-12-11T06:07:58.399637Z"
    }
   },
   "outputs": [
    {
     "data": {
      "text/plain": [
       "<bound method NDFrame.head of               id   Age  Annual Income  Number of Dependents  Health Score  \\\n",
       "0              0  19.0        10049.0                   1.0     22.598761   \n",
       "1              1  39.0        31678.0                   3.0     15.569731   \n",
       "2              2  23.0        25602.0                   3.0     47.177549   \n",
       "3              3  21.0       141855.0                   2.0     10.938144   \n",
       "4              4  21.0        39651.0                   1.0     20.376094   \n",
       "...          ...   ...            ...                   ...           ...   \n",
       "1199995  1199995  36.0        27316.0                   0.0     13.772907   \n",
       "1199996  1199996  54.0        35786.0                   4.0     11.483482   \n",
       "1199997  1199997  19.0        51884.0                   0.0     14.724469   \n",
       "1199998  1199998  55.0        23911.0                   1.0     18.547381   \n",
       "1199999  1199999  21.0        23911.0                   0.0     10.125323   \n",
       "\n",
       "         Previous Claims  Vehicle Age  Credit Score  Insurance Duration  \\\n",
       "0                    2.0         17.0         372.0                 5.0   \n",
       "1                    1.0         12.0         694.0                 2.0   \n",
       "2                    1.0         14.0         595.0                 3.0   \n",
       "3                    1.0          0.0         367.0                 1.0   \n",
       "4                    0.0          8.0         598.0                 4.0   \n",
       "...                  ...          ...           ...                 ...   \n",
       "1199995              1.0          5.0         372.0                 3.0   \n",
       "1199996              1.0         10.0         597.0                 4.0   \n",
       "1199997              0.0         19.0         595.0                 6.0   \n",
       "1199998              1.0          7.0         407.0                 4.0   \n",
       "1199999              0.0         18.0         502.0                 6.0   \n",
       "\n",
       "         Premium Amount  ...  Exercise Frequency_Rarely  \\\n",
       "0                2869.0  ...                      False   \n",
       "1                1483.0  ...                      False   \n",
       "2                 567.0  ...                      False   \n",
       "3                 765.0  ...                      False   \n",
       "4                2022.0  ...                      False   \n",
       "...                 ...  ...                        ...   \n",
       "1199995          1303.0  ...                      False   \n",
       "1199996           821.0  ...                      False   \n",
       "1199997           371.0  ...                      False   \n",
       "1199998           596.0  ...                      False   \n",
       "1199999          2480.0  ...                      False   \n",
       "\n",
       "         Exercise Frequency_Weekly  Property Type_Apartment  \\\n",
       "0                             True                    False   \n",
       "1                            False                    False   \n",
       "2                             True                    False   \n",
       "3                            False                     True   \n",
       "4                             True                    False   \n",
       "...                            ...                      ...   \n",
       "1199995                      False                     True   \n",
       "1199996                       True                     True   \n",
       "1199997                      False                    False   \n",
       "1199998                      False                     True   \n",
       "1199999                      False                    False   \n",
       "\n",
       "         Property Type_Condo  Property Type_House  Year     Month_SIN  \\\n",
       "0                      False                 True  2023 -2.449294e-16   \n",
       "1                      False                 True  2023  1.224647e-16   \n",
       "2                      False                 True  2023 -1.000000e+00   \n",
       "3                      False                False  2024  1.224647e-16   \n",
       "4                      False                 True  2021 -2.449294e-16   \n",
       "...                      ...                  ...   ...           ...   \n",
       "1199995                False                False  2023  5.000000e-01   \n",
       "1199996                False                False  2022 -1.000000e+00   \n",
       "1199997                 True                False  2021  5.000000e-01   \n",
       "1199998                False                False  2021 -1.000000e+00   \n",
       "1199999                False                 True  2020 -8.660254e-01   \n",
       "\n",
       "            Month_COS  WEEK_OF_YEAR_SIN  WEEK_OF_YEAR_COS  \n",
       "0        1.000000e+00         -0.234886          0.972023  \n",
       "1       -1.000000e+00          0.292057         -0.956401  \n",
       "2       -1.836970e-16          -0.99605         -0.088796  \n",
       "3       -1.000000e+00          0.292057         -0.956401  \n",
       "4        1.000000e+00         -0.558647          0.829406  \n",
       "...               ...               ...               ...  \n",
       "1199995 -8.660254e-01          0.845596         -0.533823  \n",
       "1199996 -1.836970e-16         -0.902798         -0.430065  \n",
       "1199997 -8.660254e-01            0.6068         -0.794854  \n",
       "1199998 -1.836970e-16         -0.947326          -0.32027  \n",
       "1199999 -5.000000e-01         -0.845596         -0.533823  \n",
       "\n",
       "[1200000 rows x 48 columns]>"
      ]
     },
     "execution_count": 56,
     "metadata": {},
     "output_type": "execute_result"
    }
   ],
   "source": [
    "train_df_encoded.head"
   ]
  },
  {
   "cell_type": "markdown",
   "metadata": {},
   "source": [
    "## Splitting Data"
   ]
  },
  {
   "cell_type": "code",
   "execution_count": 57,
   "metadata": {
    "execution": {
     "iopub.execute_input": "2024-12-11T06:08:33.165192Z",
     "iopub.status.busy": "2024-12-11T06:08:33.164823Z",
     "iopub.status.idle": "2024-12-11T06:08:33.246708Z",
     "shell.execute_reply": "2024-12-11T06:08:33.245799Z",
     "shell.execute_reply.started": "2024-12-11T06:08:33.165162Z"
    }
   },
   "outputs": [],
   "source": [
    "x = train_df_encoded.drop(['id','Premium Amount'],axis =1)\n",
    "y = train_df_encoded['Premium Amount']"
   ]
  },
  {
   "cell_type": "code",
   "execution_count": 58,
   "metadata": {
    "execution": {
     "iopub.execute_input": "2024-12-11T06:08:44.755281Z",
     "iopub.status.busy": "2024-12-11T06:08:44.754897Z",
     "iopub.status.idle": "2024-12-11T06:08:44.941635Z",
     "shell.execute_reply": "2024-12-11T06:08:44.940586Z",
     "shell.execute_reply.started": "2024-12-11T06:08:44.755246Z"
    }
   },
   "outputs": [],
   "source": [
    "from sklearn.model_selection import train_test_split"
   ]
  },
  {
   "cell_type": "code",
   "execution_count": 59,
   "metadata": {
    "execution": {
     "iopub.execute_input": "2024-12-11T06:08:55.895000Z",
     "iopub.status.busy": "2024-12-11T06:08:55.894645Z",
     "iopub.status.idle": "2024-12-11T06:08:56.345990Z",
     "shell.execute_reply": "2024-12-11T06:08:56.344899Z",
     "shell.execute_reply.started": "2024-12-11T06:08:55.894971Z"
    }
   },
   "outputs": [],
   "source": [
    "x_train,x_test,y_train,y_test = train_test_split(x,y,test_size = 0.3,random_state=42)"
   ]
  },
  {
   "cell_type": "markdown",
   "metadata": {},
   "source": [
    "## Feature Scaling"
   ]
  },
  {
   "cell_type": "markdown",
   "metadata": {},
   "source": [
    "#### Most of the features has no normal distribution. So, Applying min max scaler is wise."
   ]
  },
  {
   "cell_type": "code",
   "execution_count": 60,
   "metadata": {
    "execution": {
     "iopub.execute_input": "2024-12-11T06:10:00.175109Z",
     "iopub.status.busy": "2024-12-11T06:10:00.174715Z",
     "iopub.status.idle": "2024-12-11T06:10:00.180627Z",
     "shell.execute_reply": "2024-12-11T06:10:00.179492Z",
     "shell.execute_reply.started": "2024-12-11T06:10:00.175079Z"
    }
   },
   "outputs": [],
   "source": [
    "from sklearn.preprocessing import MinMaxScaler"
   ]
  },
  {
   "cell_type": "code",
   "execution_count": 61,
   "metadata": {
    "execution": {
     "iopub.execute_input": "2024-12-11T06:10:08.035454Z",
     "iopub.status.busy": "2024-12-11T06:10:08.035050Z",
     "iopub.status.idle": "2024-12-11T06:10:10.889901Z",
     "shell.execute_reply": "2024-12-11T06:10:10.888850Z",
     "shell.execute_reply.started": "2024-12-11T06:10:08.035415Z"
    }
   },
   "outputs": [],
   "source": [
    "mm = MinMaxScaler()\n",
    "x_train_scaled = mm.fit_transform(x_train)\n",
    "x_test_scaled = mm.transform(x_test)"
   ]
  },
  {
   "cell_type": "code",
   "execution_count": 62,
   "metadata": {
    "execution": {
     "iopub.execute_input": "2024-12-11T06:16:20.578748Z",
     "iopub.status.busy": "2024-12-11T06:16:20.578271Z",
     "iopub.status.idle": "2024-12-11T06:16:23.626514Z",
     "shell.execute_reply": "2024-12-11T06:16:23.625529Z",
     "shell.execute_reply.started": "2024-12-11T06:16:20.578711Z"
    }
   },
   "outputs": [],
   "source": [
    "test_df_encoded = test_df_encoded.drop(['id'],axis =1)\n",
    "test_scaled = mm.transform(test_df_encoded.values)"
   ]
  },
  {
   "cell_type": "markdown",
   "metadata": {},
   "source": [
    "## Deploy model"
   ]
  },
  {
   "cell_type": "code",
   "execution_count": 63,
   "metadata": {
    "execution": {
     "iopub.execute_input": "2024-12-11T06:17:39.938010Z",
     "iopub.status.busy": "2024-12-11T06:17:39.937590Z",
     "iopub.status.idle": "2024-12-11T06:17:39.944535Z",
     "shell.execute_reply": "2024-12-11T06:17:39.943260Z",
     "shell.execute_reply.started": "2024-12-11T06:17:39.937974Z"
    }
   },
   "outputs": [],
   "source": [
    "from sklearn.metrics import mean_squared_error,mean_absolute_error\n",
    "def model_acc(model,xtrain,ytrain,xtest):\n",
    "    model.fit(xtrain,ytrain)\n",
    "    y_pred = model.predict(xtest)\n",
    "    mse = mean_squared_error(y_test, y_pred)\n",
    "    mae = mean_absolute_error(y_test, y_pred)\n",
    "    rmse = np.sqrt(mse)\n",
    "\n",
    "    print(f\"MAE: {mae}\")\n",
    "    print(f\"MSE: {mse}\")\n",
    "    print(f\"RMSE: {rmse}\")"
   ]
  },
  {
   "cell_type": "code",
   "execution_count": 64,
   "metadata": {
    "execution": {
     "iopub.execute_input": "2024-12-11T06:17:53.024754Z",
     "iopub.status.busy": "2024-12-11T06:17:53.024194Z",
     "iopub.status.idle": "2024-12-11T06:17:53.216488Z",
     "shell.execute_reply": "2024-12-11T06:17:53.215332Z",
     "shell.execute_reply.started": "2024-12-11T06:17:53.024715Z"
    }
   },
   "outputs": [],
   "source": [
    "from sklearn.linear_model import LinearRegression\n",
    "lr = LinearRegression()\n",
    "\n",
    "from sklearn.linear_model import Lasso\n",
    "lasso = Lasso()\n",
    "\n",
    "from sklearn.tree import DecisionTreeRegressor\n",
    "dt = DecisionTreeRegressor()"
   ]
  },
  {
   "cell_type": "markdown",
   "metadata": {},
   "source": [
    "#### Linear Regression"
   ]
  },
  {
   "cell_type": "code",
   "execution_count": 65,
   "metadata": {
    "execution": {
     "iopub.execute_input": "2024-12-11T06:18:01.338227Z",
     "iopub.status.busy": "2024-12-11T06:18:01.337868Z",
     "iopub.status.idle": "2024-12-11T06:18:04.340618Z",
     "shell.execute_reply": "2024-12-11T06:18:04.338554Z",
     "shell.execute_reply.started": "2024-12-11T06:18:01.338197Z"
    }
   },
   "outputs": [
    {
     "name": "stdout",
     "output_type": "stream",
     "text": [
      "MAE: 667.4636604166667\n",
      "MSE: 745036.2776375\n",
      "RMSE: 863.1548398969329\n"
     ]
    }
   ],
   "source": [
    "model_acc(lr,x_train_scaled,y_train,x_test_scaled)"
   ]
  },
  {
   "cell_type": "markdown",
   "metadata": {},
   "source": [
    "#### Lasso"
   ]
  },
  {
   "cell_type": "code",
   "execution_count": 66,
   "metadata": {
    "execution": {
     "iopub.execute_input": "2024-12-11T06:18:14.138582Z",
     "iopub.status.busy": "2024-12-11T06:18:14.137485Z",
     "iopub.status.idle": "2024-12-11T06:18:14.701155Z",
     "shell.execute_reply": "2024-12-11T06:18:14.696827Z",
     "shell.execute_reply.started": "2024-12-11T06:18:14.138541Z"
    }
   },
   "outputs": [
    {
     "name": "stdout",
     "output_type": "stream",
     "text": [
      "MAE: 667.6714316422558\n",
      "MSE: 745264.1920021514\n",
      "RMSE: 863.2868538337367\n"
     ]
    }
   ],
   "source": [
    "model_acc(lasso,x_train_scaled,y_train,x_test_scaled)"
   ]
  },
  {
   "cell_type": "markdown",
   "metadata": {},
   "source": [
    "#### Decision Tree Regression"
   ]
  },
  {
   "cell_type": "code",
   "execution_count": 67,
   "metadata": {
    "execution": {
     "iopub.execute_input": "2024-12-11T06:18:26.938197Z",
     "iopub.status.busy": "2024-12-11T06:18:26.937533Z",
     "iopub.status.idle": "2024-12-11T06:18:58.019555Z",
     "shell.execute_reply": "2024-12-11T06:18:58.018236Z",
     "shell.execute_reply.started": "2024-12-11T06:18:26.938158Z"
    }
   },
   "outputs": [
    {
     "name": "stdout",
     "output_type": "stream",
     "text": [
      "MAE: 885.4306694444444\n",
      "MSE: 1501650.1926527778\n",
      "RMSE: 1225.4183745369487\n"
     ]
    }
   ],
   "source": [
    "model_acc(dt,x_train_scaled,y_train,x_test_scaled)"
   ]
  },
  {
   "cell_type": "markdown",
   "metadata": {},
   "source": [
    "#### LiightGBM"
   ]
  },
  {
   "cell_type": "code",
   "execution_count": 68,
   "metadata": {
    "execution": {
     "iopub.execute_input": "2024-12-11T06:21:15.868456Z",
     "iopub.status.busy": "2024-12-11T06:21:15.868004Z",
     "iopub.status.idle": "2024-12-11T06:21:16.878546Z",
     "shell.execute_reply": "2024-12-11T06:21:16.877432Z",
     "shell.execute_reply.started": "2024-12-11T06:21:15.868414Z"
    }
   },
   "outputs": [],
   "source": [
    "import lightgbm as lgb"
   ]
  },
  {
   "cell_type": "code",
   "execution_count": 69,
   "metadata": {
    "execution": {
     "iopub.execute_input": "2024-12-11T06:21:33.468605Z",
     "iopub.status.busy": "2024-12-11T06:21:33.467953Z",
     "iopub.status.idle": "2024-12-11T06:21:33.474017Z",
     "shell.execute_reply": "2024-12-11T06:21:33.472916Z",
     "shell.execute_reply.started": "2024-12-11T06:21:33.468564Z"
    }
   },
   "outputs": [],
   "source": [
    "train_lgb_data = lgb.Dataset(x_train_scaled, label=y_train)\n",
    "test_lgb_data = lgb.Dataset(x_test_scaled, label=y_test, reference=train_lgb_data)"
   ]
  },
  {
   "cell_type": "code",
   "execution_count": 70,
   "metadata": {
    "execution": {
     "iopub.execute_input": "2024-12-11T06:21:46.878762Z",
     "iopub.status.busy": "2024-12-11T06:21:46.878248Z",
     "iopub.status.idle": "2024-12-11T06:21:46.884517Z",
     "shell.execute_reply": "2024-12-11T06:21:46.883105Z",
     "shell.execute_reply.started": "2024-12-11T06:21:46.878726Z"
    }
   },
   "outputs": [],
   "source": [
    "params = {\n",
    "    'objective': 'regression',\n",
    "    'metric': 'l2',  # For regression, L2 loss (mean squared error) is common\n",
    "    'num_leaves': 31,\n",
    "    'learning_rate': 0.05,\n",
    "    'feature_fraction': 0.9,\n",
    "}"
   ]
  },
  {
   "cell_type": "code",
   "execution_count": 71,
   "metadata": {
    "execution": {
     "iopub.execute_input": "2024-12-11T06:21:59.529010Z",
     "iopub.status.busy": "2024-12-11T06:21:59.528612Z",
     "iopub.status.idle": "2024-12-11T06:22:06.537666Z",
     "shell.execute_reply": "2024-12-11T06:22:06.536546Z",
     "shell.execute_reply.started": "2024-12-11T06:21:59.528973Z"
    }
   },
   "outputs": [
    {
     "name": "stdout",
     "output_type": "stream",
     "text": [
      "[LightGBM] [Info] Auto-choosing row-wise multi-threading, the overhead of testing was 0.019170 seconds.\n",
      "You can set `force_row_wise=true` to remove the overhead.\n",
      "And if memory is not enough, you can set `force_col_wise=true`.\n",
      "[LightGBM] [Info] Total Bins 1036\n",
      "[LightGBM] [Info] Number of data points in the train set: 840000, number of used features: 46\n",
      "[LightGBM] [Info] Start training from score 1102.780033\n"
     ]
    }
   ],
   "source": [
    "gbm = lgb.train(params, train_lgb_data, valid_sets=[test_lgb_data], num_boost_round=100)"
   ]
  },
  {
   "cell_type": "code",
   "execution_count": 72,
   "metadata": {
    "execution": {
     "iopub.execute_input": "2024-12-11T06:23:23.179081Z",
     "iopub.status.busy": "2024-12-11T06:23:23.177911Z",
     "iopub.status.idle": "2024-12-11T06:23:23.670515Z",
     "shell.execute_reply": "2024-12-11T06:23:23.669073Z",
     "shell.execute_reply.started": "2024-12-11T06:23:23.179034Z"
    }
   },
   "outputs": [],
   "source": [
    "y_pred = gbm.predict(x_test, num_iteration=gbm.best_iteration)"
   ]
  },
  {
   "cell_type": "code",
   "execution_count": 73,
   "metadata": {
    "execution": {
     "iopub.execute_input": "2024-12-11T06:23:33.977760Z",
     "iopub.status.busy": "2024-12-11T06:23:33.977311Z",
     "iopub.status.idle": "2024-12-11T06:23:33.989317Z",
     "shell.execute_reply": "2024-12-11T06:23:33.988220Z",
     "shell.execute_reply.started": "2024-12-11T06:23:33.977725Z"
    }
   },
   "outputs": [
    {
     "name": "stdout",
     "output_type": "stream",
     "text": [
      "MAE: 785.9556701597976\n",
      "MSE: 872486.0846988722\n",
      "RMSE: 934.0696358938515\n"
     ]
    }
   ],
   "source": [
    "mse = mean_squared_error(y_test, y_pred)\n",
    "mae = mean_absolute_error(y_test, y_pred)\n",
    "rmse = np.sqrt(mse)\n",
    "\n",
    "print(f\"MAE: {mae}\")\n",
    "print(f\"MSE: {mse}\")\n",
    "print(f\"RMSE: {rmse}\")"
   ]
  },
  {
   "cell_type": "markdown",
   "metadata": {},
   "source": [
    "#### xgboost"
   ]
  },
  {
   "cell_type": "code",
   "execution_count": 74,
   "metadata": {
    "execution": {
     "iopub.execute_input": "2024-12-11T06:24:37.617622Z",
     "iopub.status.busy": "2024-12-11T06:24:37.617217Z",
     "iopub.status.idle": "2024-12-11T06:24:37.803120Z",
     "shell.execute_reply": "2024-12-11T06:24:37.801972Z",
     "shell.execute_reply.started": "2024-12-11T06:24:37.617587Z"
    }
   },
   "outputs": [],
   "source": [
    "import xgboost as xgb"
   ]
  },
  {
   "cell_type": "code",
   "execution_count": 75,
   "metadata": {
    "execution": {
     "iopub.execute_input": "2024-12-11T06:24:41.138064Z",
     "iopub.status.busy": "2024-12-11T06:24:41.137648Z",
     "iopub.status.idle": "2024-12-11T06:24:42.821094Z",
     "shell.execute_reply": "2024-12-11T06:24:42.820125Z",
     "shell.execute_reply.started": "2024-12-11T06:24:41.138030Z"
    }
   },
   "outputs": [],
   "source": [
    "train_data = xgb.DMatrix(x_train_scaled, label=y_train)\n",
    "test_data = xgb.DMatrix(x_test_scaled, label=y_test)"
   ]
  },
  {
   "cell_type": "code",
   "execution_count": 76,
   "metadata": {
    "execution": {
     "iopub.execute_input": "2024-12-11T06:24:53.788026Z",
     "iopub.status.busy": "2024-12-11T06:24:53.787648Z",
     "iopub.status.idle": "2024-12-11T06:24:53.793561Z",
     "shell.execute_reply": "2024-12-11T06:24:53.792397Z",
     "shell.execute_reply.started": "2024-12-11T06:24:53.787996Z"
    }
   },
   "outputs": [],
   "source": [
    "params = {\n",
    "    'objective': 'reg:squarederror',  # For regression tasks\n",
    "    'learning_rate': 0.1,  # Step size shrinkage\n",
    "    'max_depth': 5,  # Maximum depth of a tree\n",
    "    'alpha': 10,  # L1 regularization term on weights\n",
    "    'n_estimators': 100  # Number of boosting rounds (trees)\n",
    "}"
   ]
  },
  {
   "cell_type": "code",
   "execution_count": 77,
   "metadata": {
    "execution": {
     "iopub.execute_input": "2024-12-11T06:25:03.898932Z",
     "iopub.status.busy": "2024-12-11T06:25:03.898079Z",
     "iopub.status.idle": "2024-12-11T06:25:15.554573Z",
     "shell.execute_reply": "2024-12-11T06:25:15.553549Z",
     "shell.execute_reply.started": "2024-12-11T06:25:03.898892Z"
    }
   },
   "outputs": [],
   "source": [
    "model_xgb = xgb.train(params, train_data, num_boost_round=100)"
   ]
  },
  {
   "cell_type": "code",
   "execution_count": 78,
   "metadata": {
    "execution": {
     "iopub.execute_input": "2024-12-11T06:25:24.138218Z",
     "iopub.status.busy": "2024-12-11T06:25:24.137855Z",
     "iopub.status.idle": "2024-12-11T06:25:24.811668Z",
     "shell.execute_reply": "2024-12-11T06:25:24.810456Z",
     "shell.execute_reply.started": "2024-12-11T06:25:24.138186Z"
    }
   },
   "outputs": [],
   "source": [
    "y_pred = model_xgb.predict(test_data)"
   ]
  },
  {
   "cell_type": "code",
   "execution_count": 79,
   "metadata": {
    "execution": {
     "iopub.execute_input": "2024-12-11T06:25:40.567737Z",
     "iopub.status.busy": "2024-12-11T06:25:40.567284Z",
     "iopub.status.idle": "2024-12-11T06:25:40.579864Z",
     "shell.execute_reply": "2024-12-11T06:25:40.578660Z",
     "shell.execute_reply.started": "2024-12-11T06:25:40.567701Z"
    }
   },
   "outputs": [
    {
     "name": "stdout",
     "output_type": "stream",
     "text": [
      "MAE: 643.4685520139906\n",
      "MSE: 709817.2381853248\n",
      "RMSE: 842.5065211529967\n"
     ]
    }
   ],
   "source": [
    "mse = mean_squared_error(y_test, y_pred)\n",
    "mae = mean_absolute_error(y_test, y_pred)\n",
    "rmse = np.sqrt(mse)\n",
    "\n",
    "print(f\"MAE: {mae}\")\n",
    "print(f\"MSE: {mse}\")\n",
    "print(f\"RMSE: {rmse}\")"
   ]
  },
  {
   "cell_type": "markdown",
   "metadata": {},
   "source": [
    "## PCA"
   ]
  },
  {
   "cell_type": "markdown",
   "metadata": {},
   "source": [
    "#### After Encording data, we have 48 columns as features. Some times high dimensionality can cause to low accuracy. to reduce the number of dimensions we can perform PCA.   "
   ]
  },
  {
   "cell_type": "code",
   "execution_count": 80,
   "metadata": {
    "execution": {
     "iopub.execute_input": "2024-12-11T06:30:37.178065Z",
     "iopub.status.busy": "2024-12-11T06:30:37.177629Z",
     "iopub.status.idle": "2024-12-11T06:30:40.034840Z",
     "shell.execute_reply": "2024-12-11T06:30:40.033760Z",
     "shell.execute_reply.started": "2024-12-11T06:30:37.178029Z"
    }
   },
   "outputs": [
    {
     "data": {
      "image/png": "[encoded data removed]",
      "text/plain": [
       "<Figure size 720x432 with 1 Axes>"
      ]
     },
     "metadata": {
      "needs_background": "light"
     },
     "output_type": "display_data"
    }
   ],
   "source": [
    "from sklearn.decomposition import PCA\n",
    "pca = PCA()\n",
    "pca.fit(x_train_scaled)\n",
    "\n",
    "# Explained variance ratio\n",
    "explained_variance_ratio = pca.explained_variance_ratio_\n",
    "cumulative_explained_variance = explained_variance_ratio.cumsum()\n",
    "\n",
    "# Plot explained variance\n",
    "plt.figure(figsize=(10, 6))\n",
    "plt.plot(range(1, len(explained_variance_ratio) + 1), cumulative_explained_variance, marker='o', linestyle='--')\n",
    "plt.xlabel('Number of Principal Components')\n",
    "plt.ylabel('Cumulative Explained Variance')\n",
    "plt.title('Explained Variance vs. Number of Components')\n",
    "plt.show()"
   ]
  },
  {
   "cell_type": "markdown",
   "metadata": {},
   "source": [
    "#### When the number of components equals 32, Cumulative explained variance becomes constant. Hence Suitable least number of components equals 32."
   ]
  },
  {
   "cell_type": "code",
   "execution_count": 81,
   "metadata": {
    "execution": {
     "iopub.execute_input": "2024-12-11T06:34:38.597852Z",
     "iopub.status.busy": "2024-12-11T06:34:38.597437Z",
     "iopub.status.idle": "2024-12-11T06:34:48.680794Z",
     "shell.execute_reply": "2024-12-11T06:34:48.679230Z",
     "shell.execute_reply.started": "2024-12-11T06:34:38.597816Z"
    }
   },
   "outputs": [],
   "source": [
    "pca = PCA(n_components=32)\n",
    "x_train_pca = pca.fit_transform(x_train_scaled)\n",
    "x_test_pca = pca.transform(x_test_scaled)"
   ]
  },
  {
   "cell_type": "markdown",
   "metadata": {},
   "source": [
    "### Linear regression for PCA data"
   ]
  },
  {
   "cell_type": "code",
   "execution_count": 82,
   "metadata": {
    "execution": {
     "iopub.execute_input": "2024-12-11T06:37:49.819244Z",
     "iopub.status.busy": "2024-12-11T06:37:49.818803Z",
     "iopub.status.idle": "2024-12-11T06:37:51.643994Z",
     "shell.execute_reply": "2024-12-11T06:37:51.641989Z",
     "shell.execute_reply.started": "2024-12-11T06:37:49.819211Z"
    }
   },
   "outputs": [
    {
     "name": "stdout",
     "output_type": "stream",
     "text": [
      "MAE: 668.1710525704416\n",
      "MSE: 746439.6420411954\n",
      "RMSE: 863.9673848249107\n"
     ]
    }
   ],
   "source": [
    "model_acc(lr,x_train_pca,y_train,x_test_pca)"
   ]
  },
  {
   "cell_type": "markdown",
   "metadata": {},
   "source": [
    "### Lasso for PCA data"
   ]
  },
  {
   "cell_type": "code",
   "execution_count": 83,
   "metadata": {
    "execution": {
     "iopub.execute_input": "2024-12-11T06:38:00.548087Z",
     "iopub.status.busy": "2024-12-11T06:38:00.547685Z",
     "iopub.status.idle": "2024-12-11T06:38:01.120592Z",
     "shell.execute_reply": "2024-12-11T06:38:01.116706Z",
     "shell.execute_reply.started": "2024-12-11T06:38:00.548048Z"
    }
   },
   "outputs": [
    {
     "name": "stdout",
     "output_type": "stream",
     "text": [
      "MAE: 668.2637911430777\n",
      "MSE: 746492.8094833399\n",
      "RMSE: 863.9981536342192\n"
     ]
    }
   ],
   "source": [
    "model_acc(lasso,x_train_pca,y_train,x_test_pca)"
   ]
  },
  {
   "cell_type": "markdown",
   "metadata": {},
   "source": [
    "### Decision tree regression for PCA data"
   ]
  },
  {
   "cell_type": "code",
   "execution_count": 84,
   "metadata": {
    "execution": {
     "iopub.execute_input": "2024-12-11T06:38:09.302809Z",
     "iopub.status.busy": "2024-12-11T06:38:09.302396Z",
     "iopub.status.idle": "2024-12-11T06:40:19.604742Z",
     "shell.execute_reply": "2024-12-11T06:40:19.603658Z",
     "shell.execute_reply.started": "2024-12-11T06:38:09.302774Z"
    }
   },
   "outputs": [
    {
     "name": "stdout",
     "output_type": "stream",
     "text": [
      "MAE: 921.927625\n",
      "MSE: 1547216.882775\n",
      "RMSE: 1243.8717308368255\n"
     ]
    }
   ],
   "source": [
    "model_acc(dt,x_train_pca,y_train,x_test_pca)"
   ]
  },
  {
   "cell_type": "markdown",
   "metadata": {},
   "source": [
    "### xgboost for PCA Data"
   ]
  },
  {
   "cell_type": "code",
   "execution_count": 85,
   "metadata": {
    "execution": {
     "iopub.execute_input": "2024-12-11T06:40:31.812709Z",
     "iopub.status.busy": "2024-12-11T06:40:31.812280Z",
     "iopub.status.idle": "2024-12-11T06:40:32.652655Z",
     "shell.execute_reply": "2024-12-11T06:40:32.651572Z",
     "shell.execute_reply.started": "2024-12-11T06:40:31.812674Z"
    }
   },
   "outputs": [],
   "source": [
    "train_pca_data = xgb.DMatrix(x_train_pca, label=y_train)\n",
    "test_pca_data = xgb.DMatrix(x_test_pca, label=y_test)"
   ]
  },
  {
   "cell_type": "code",
   "execution_count": 86,
   "metadata": {
    "execution": {
     "iopub.execute_input": "2024-12-11T06:40:43.873090Z",
     "iopub.status.busy": "2024-12-11T06:40:43.872664Z",
     "iopub.status.idle": "2024-12-11T06:40:43.878192Z",
     "shell.execute_reply": "2024-12-11T06:40:43.877049Z",
     "shell.execute_reply.started": "2024-12-11T06:40:43.873056Z"
    }
   },
   "outputs": [],
   "source": [
    "params = {\n",
    "    'objective': 'reg:squarederror',  # For regression tasks\n",
    "    'learning_rate': 0.1,  # Step size shrinkage\n",
    "    'max_depth': 5,  # Maximum depth of a tree\n",
    "    'alpha': 10,  # L1 regularization term on weights\n",
    "    'n_estimators': 100  # Number of boosting rounds (trees)\n",
    "}"
   ]
  },
  {
   "cell_type": "code",
   "execution_count": 87,
   "metadata": {
    "execution": {
     "iopub.execute_input": "2024-12-11T06:40:53.072876Z",
     "iopub.status.busy": "2024-12-11T06:40:53.072457Z",
     "iopub.status.idle": "2024-12-11T06:41:06.946199Z",
     "shell.execute_reply": "2024-12-11T06:41:06.945170Z",
     "shell.execute_reply.started": "2024-12-11T06:40:53.072840Z"
    }
   },
   "outputs": [],
   "source": [
    "model_pca_xgb = xgb.train(params, train_pca_data, num_boost_round=100)"
   ]
  },
  {
   "cell_type": "code",
   "execution_count": 88,
   "metadata": {
    "execution": {
     "iopub.execute_input": "2024-12-11T06:41:10.978276Z",
     "iopub.status.busy": "2024-12-11T06:41:10.977886Z",
     "iopub.status.idle": "2024-12-11T06:41:11.634505Z",
     "shell.execute_reply": "2024-12-11T06:41:11.633296Z",
     "shell.execute_reply.started": "2024-12-11T06:41:10.978241Z"
    }
   },
   "outputs": [],
   "source": [
    "y_pred = model_pca_xgb.predict(test_pca_data)"
   ]
  },
  {
   "cell_type": "code",
   "execution_count": 89,
   "metadata": {
    "execution": {
     "iopub.execute_input": "2024-12-11T06:41:23.683512Z",
     "iopub.status.busy": "2024-12-11T06:41:23.682513Z",
     "iopub.status.idle": "2024-12-11T06:41:23.698532Z",
     "shell.execute_reply": "2024-12-11T06:41:23.697314Z",
     "shell.execute_reply.started": "2024-12-11T06:41:23.683473Z"
    }
   },
   "outputs": [
    {
     "name": "stdout",
     "output_type": "stream",
     "text": [
      "MAE: 663.9824452202691\n",
      "MSE: 739685.0702197434\n",
      "RMSE: 860.0494580079354\n"
     ]
    }
   ],
   "source": [
    "mse = mean_squared_error(y_test, y_pred)\n",
    "mae = mean_absolute_error(y_test, y_pred)\n",
    "rmse = np.sqrt(mse)\n",
    "\n",
    "print(f\"MAE: {mae}\")\n",
    "print(f\"MSE: {mse}\")\n",
    "print(f\"RMSE: {rmse}\")"
   ]
  },
  {
   "cell_type": "markdown",
   "metadata": {},
   "source": [
    "### According to previous results XGBoost is the most suitable model without PCA. So finally I applied xgboost without PCA for the test set. "
   ]
  },
  {
   "cell_type": "code",
   "execution_count": 90,
   "metadata": {
    "execution": {
     "iopub.execute_input": "2024-12-11T06:45:18.901373Z",
     "iopub.status.busy": "2024-12-11T06:45:18.900402Z",
     "iopub.status.idle": "2024-12-11T06:45:18.909581Z",
     "shell.execute_reply": "2024-12-11T06:45:18.908188Z",
     "shell.execute_reply.started": "2024-12-11T06:45:18.901296Z"
    }
   },
   "outputs": [
    {
     "data": {
      "text/plain": [
       "(800000, 46)"
      ]
     },
     "execution_count": 90,
     "metadata": {},
     "output_type": "execute_result"
    }
   ],
   "source": [
    "test_scaled.shape"
   ]
  },
  {
   "cell_type": "code",
   "execution_count": 91,
   "metadata": {
    "execution": {
     "iopub.execute_input": "2024-12-11T06:45:45.943158Z",
     "iopub.status.busy": "2024-12-11T06:45:45.942790Z",
     "iopub.status.idle": "2024-12-11T06:45:47.059740Z",
     "shell.execute_reply": "2024-12-11T06:45:47.058882Z",
     "shell.execute_reply.started": "2024-12-11T06:45:45.943127Z"
    }
   },
   "outputs": [],
   "source": [
    "dtest = xgb.DMatrix(test_scaled)"
   ]
  },
  {
   "cell_type": "code",
   "execution_count": 92,
   "metadata": {
    "execution": {
     "iopub.execute_input": "2024-12-11T06:45:57.643853Z",
     "iopub.status.busy": "2024-12-11T06:45:57.642826Z",
     "iopub.status.idle": "2024-12-11T06:45:59.143928Z",
     "shell.execute_reply": "2024-12-11T06:45:59.142939Z",
     "shell.execute_reply.started": "2024-12-11T06:45:57.643809Z"
    }
   },
   "outputs": [],
   "source": [
    "y_test_pred = model_xgb.predict(dtest)"
   ]
  },
  {
   "cell_type": "code",
   "execution_count": 93,
   "metadata": {
    "execution": {
     "iopub.execute_input": "2024-12-11T06:46:26.904067Z",
     "iopub.status.busy": "2024-12-11T06:46:26.903030Z",
     "iopub.status.idle": "2024-12-11T06:46:26.912558Z",
     "shell.execute_reply": "2024-12-11T06:46:26.911528Z",
     "shell.execute_reply.started": "2024-12-11T06:46:26.904016Z"
    }
   },
   "outputs": [
    {
     "data": {
      "text/plain": [
       "(800000,)"
      ]
     },
     "execution_count": 93,
     "metadata": {},
     "output_type": "execute_result"
    }
   ],
   "source": [
    "y_test_pred.shape"
   ]
  },
  {
   "cell_type": "code",
   "execution_count": 94,
   "metadata": {
    "execution": {
     "iopub.execute_input": "2024-12-11T06:48:12.699212Z",
     "iopub.status.busy": "2024-12-11T06:48:12.698781Z",
     "iopub.status.idle": "2024-12-11T06:48:12.708636Z",
     "shell.execute_reply": "2024-12-11T06:48:12.707631Z",
     "shell.execute_reply.started": "2024-12-11T06:48:12.699176Z"
    }
   },
   "outputs": [],
   "source": [
    "submission_df = pd.DataFrame({\n",
    "    'id': test_df['id'],\n",
    "    'Premium Amount': y_test_pred\n",
    "})"
   ]
  },
  {
   "cell_type": "code",
   "execution_count": 95,
   "metadata": {
    "execution": {
     "iopub.execute_input": "2024-12-11T06:48:26.898284Z",
     "iopub.status.busy": "2024-12-11T06:48:26.897888Z",
     "iopub.status.idle": "2024-12-11T06:48:26.914096Z",
     "shell.execute_reply": "2024-12-11T06:48:26.913024Z",
     "shell.execute_reply.started": "2024-12-11T06:48:26.898250Z"
    }
   },
   "outputs": [
    {
     "data": {
      "text/html": [
       "<div>\n",
       "<style scoped>\n",
       "    .dataframe tbody tr th:only-of-type {\n",
       "        vertical-align: middle;\n",
       "    }\n",
       "\n",
       "    .dataframe tbody tr th {\n",
       "        vertical-align: top;\n",
       "    }\n",
       "\n",
       "    .dataframe thead th {\n",
       "        text-align: right;\n",
       "    }\n",
       "</style>\n",
       "<table border=\"1\" class=\"dataframe\">\n",
       "  <thead>\n",
       "    <tr style=\"text-align: right;\">\n",
       "      <th></th>\n",
       "      <th>id</th>\n",
       "      <th>Premium Amount</th>\n",
       "    </tr>\n",
       "  </thead>\n",
       "  <tbody>\n",
       "    <tr>\n",
       "      <th>0</th>\n",
       "      <td>1200000</td>\n",
       "      <td>1328.038696</td>\n",
       "    </tr>\n",
       "    <tr>\n",
       "      <th>1</th>\n",
       "      <td>1200001</td>\n",
       "      <td>1118.386108</td>\n",
       "    </tr>\n",
       "    <tr>\n",
       "      <th>2</th>\n",
       "      <td>1200002</td>\n",
       "      <td>1069.212402</td>\n",
       "    </tr>\n",
       "    <tr>\n",
       "      <th>3</th>\n",
       "      <td>1200003</td>\n",
       "      <td>1059.157593</td>\n",
       "    </tr>\n",
       "    <tr>\n",
       "      <th>4</th>\n",
       "      <td>1200004</td>\n",
       "      <td>1028.287598</td>\n",
       "    </tr>\n",
       "    <tr>\n",
       "      <th>...</th>\n",
       "      <td>...</td>\n",
       "      <td>...</td>\n",
       "    </tr>\n",
       "    <tr>\n",
       "      <th>799995</th>\n",
       "      <td>1999995</td>\n",
       "      <td>1224.209473</td>\n",
       "    </tr>\n",
       "    <tr>\n",
       "      <th>799996</th>\n",
       "      <td>1999996</td>\n",
       "      <td>1408.229736</td>\n",
       "    </tr>\n",
       "    <tr>\n",
       "      <th>799997</th>\n",
       "      <td>1999997</td>\n",
       "      <td>1113.754761</td>\n",
       "    </tr>\n",
       "    <tr>\n",
       "      <th>799998</th>\n",
       "      <td>1999998</td>\n",
       "      <td>1129.148560</td>\n",
       "    </tr>\n",
       "    <tr>\n",
       "      <th>799999</th>\n",
       "      <td>1999999</td>\n",
       "      <td>1043.436157</td>\n",
       "    </tr>\n",
       "  </tbody>\n",
       "</table>\n",
       "<p>800000 rows × 2 columns</p>\n",
       "</div>"
      ],
      "text/plain": [
       "             id  Premium Amount\n",
       "0       1200000     1328.038696\n",
       "1       1200001     1118.386108\n",
       "2       1200002     1069.212402\n",
       "3       1200003     1059.157593\n",
       "4       1200004     1028.287598\n",
       "...         ...             ...\n",
       "799995  1999995     1224.209473\n",
       "799996  1999996     1408.229736\n",
       "799997  1999997     1113.754761\n",
       "799998  1999998     1129.148560\n",
       "799999  1999999     1043.436157\n",
       "\n",
       "[800000 rows x 2 columns]"
      ]
     },
     "execution_count": 95,
     "metadata": {},
     "output_type": "execute_result"
    }
   ],
   "source": [
    "submission_df"
   ]
  },
  {
   "cell_type": "code",
   "execution_count": 97,
   "metadata": {},
   "outputs": [],
   "source": [
    "submission_df.to_csv('Submission.csv', index=False)"
   ]
  },
  {
   "cell_type": "code",
   "execution_count": null,
   "metadata": {},
   "outputs": [],
   "source": []
  }
 ],
 "metadata": {
  "kernelspec": {
   "display_name": "Python 3 (ipykernel)",
   "language": "python",
   "name": "python3"
  },
  "language_info": {
   "codemirror_mode": {
    "name": "ipython",
    "version": 3
   },
   "file_extension": ".py",
   "mimetype": "text/x-python",
   "name": "python",
   "nbconvert_exporter": "python",
   "pygments_lexer": "ipython3",
   "version": "3.9.12"
  }
 },
 "nbformat": 4,
 "nbformat_minor": 4
}
