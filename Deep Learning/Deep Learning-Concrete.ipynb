{
 "cells": [
  {
   "cell_type": "code",
   "execution_count": 1,
   "id": "93d31084",
   "metadata": {},
   "outputs": [],
   "source": [
    "import matplotlib.pyplot as plt\n",
    "import seaborn as sns\n",
    "\n",
    "sns.set(style=\"whitegrid\")\n",
    "# Set Matplotlib defaults\n",
    "plt.rc('figure', autolayout=True)\n",
    "plt.rc('axes', labelweight='bold', labelsize='large',\n",
    "       titleweight='bold', titlesize=18, titlepad=10)"
   ]
  },
  {
   "cell_type": "code",
   "execution_count": 2,
   "id": "6a7adfcb",
   "metadata": {},
   "outputs": [],
   "source": [
    "import numpy as np\n",
    "import pandas as pd\n",
    "from sklearn.preprocessing import StandardScaler, OneHotEncoder\n",
    "from sklearn.compose import make_column_transformer, make_column_selector\n",
    "from sklearn.model_selection import train_test_split"
   ]
  },
  {
   "cell_type": "code",
   "execution_count": 3,
   "id": "08a0b774",
   "metadata": {},
   "outputs": [],
   "source": [
    "data = pd.read_csv('Z:\\\\Sasindu\\\\Data set\\\\concrete_data.csv')"
   ]
  },
  {
   "cell_type": "code",
   "execution_count": 4,
   "id": "ceeb1ca5",
   "metadata": {},
   "outputs": [],
   "source": [
    "df = pd.DataFrame(data)"
   ]
  },
  {
   "cell_type": "code",
   "execution_count": 5,
   "id": "3fb51da8",
   "metadata": {},
   "outputs": [
    {
     "data": {
      "text/html": [
       "<div>\n",
       "<style scoped>\n",
       "    .dataframe tbody tr th:only-of-type {\n",
       "        vertical-align: middle;\n",
       "    }\n",
       "\n",
       "    .dataframe tbody tr th {\n",
       "        vertical-align: top;\n",
       "    }\n",
       "\n",
       "    .dataframe thead th {\n",
       "        text-align: right;\n",
       "    }\n",
       "</style>\n",
       "<table border=\"1\" class=\"dataframe\">\n",
       "  <thead>\n",
       "    <tr style=\"text-align: right;\">\n",
       "      <th></th>\n",
       "      <th>Cement</th>\n",
       "      <th>Blast Furnace Slag</th>\n",
       "      <th>Fly Ash</th>\n",
       "      <th>Water</th>\n",
       "      <th>Superplasticizer</th>\n",
       "      <th>Coarse Aggregate</th>\n",
       "      <th>Fine Aggregate</th>\n",
       "      <th>Age</th>\n",
       "      <th>Strength</th>\n",
       "    </tr>\n",
       "  </thead>\n",
       "  <tbody>\n",
       "    <tr>\n",
       "      <th>0</th>\n",
       "      <td>540.0</td>\n",
       "      <td>0.0</td>\n",
       "      <td>0.0</td>\n",
       "      <td>162.0</td>\n",
       "      <td>2.5</td>\n",
       "      <td>1040.0</td>\n",
       "      <td>676.0</td>\n",
       "      <td>28</td>\n",
       "      <td>79.99</td>\n",
       "    </tr>\n",
       "    <tr>\n",
       "      <th>1</th>\n",
       "      <td>540.0</td>\n",
       "      <td>0.0</td>\n",
       "      <td>0.0</td>\n",
       "      <td>162.0</td>\n",
       "      <td>2.5</td>\n",
       "      <td>1055.0</td>\n",
       "      <td>676.0</td>\n",
       "      <td>28</td>\n",
       "      <td>61.89</td>\n",
       "    </tr>\n",
       "    <tr>\n",
       "      <th>2</th>\n",
       "      <td>332.5</td>\n",
       "      <td>142.5</td>\n",
       "      <td>0.0</td>\n",
       "      <td>228.0</td>\n",
       "      <td>0.0</td>\n",
       "      <td>932.0</td>\n",
       "      <td>594.0</td>\n",
       "      <td>270</td>\n",
       "      <td>40.27</td>\n",
       "    </tr>\n",
       "    <tr>\n",
       "      <th>3</th>\n",
       "      <td>332.5</td>\n",
       "      <td>142.5</td>\n",
       "      <td>0.0</td>\n",
       "      <td>228.0</td>\n",
       "      <td>0.0</td>\n",
       "      <td>932.0</td>\n",
       "      <td>594.0</td>\n",
       "      <td>365</td>\n",
       "      <td>41.05</td>\n",
       "    </tr>\n",
       "    <tr>\n",
       "      <th>4</th>\n",
       "      <td>198.6</td>\n",
       "      <td>132.4</td>\n",
       "      <td>0.0</td>\n",
       "      <td>192.0</td>\n",
       "      <td>0.0</td>\n",
       "      <td>978.4</td>\n",
       "      <td>825.5</td>\n",
       "      <td>360</td>\n",
       "      <td>44.30</td>\n",
       "    </tr>\n",
       "  </tbody>\n",
       "</table>\n",
       "</div>"
      ],
      "text/plain": [
       "   Cement  Blast Furnace Slag  Fly Ash  Water  Superplasticizer  \\\n",
       "0   540.0                 0.0      0.0  162.0               2.5   \n",
       "1   540.0                 0.0      0.0  162.0               2.5   \n",
       "2   332.5               142.5      0.0  228.0               0.0   \n",
       "3   332.5               142.5      0.0  228.0               0.0   \n",
       "4   198.6               132.4      0.0  192.0               0.0   \n",
       "\n",
       "   Coarse Aggregate  Fine Aggregate  Age  Strength  \n",
       "0            1040.0           676.0   28     79.99  \n",
       "1            1055.0           676.0   28     61.89  \n",
       "2             932.0           594.0  270     40.27  \n",
       "3             932.0           594.0  365     41.05  \n",
       "4             978.4           825.5  360     44.30  "
      ]
     },
     "execution_count": 5,
     "metadata": {},
     "output_type": "execute_result"
    }
   ],
   "source": [
    "df.head()"
   ]
  },
  {
   "cell_type": "code",
   "execution_count": 6,
   "id": "88139d74",
   "metadata": {},
   "outputs": [],
   "source": [
    "X = df.copy()\n",
    "# Remove target\n",
    "y = X.pop('Strength')"
   ]
  },
  {
   "cell_type": "code",
   "execution_count": 7,
   "id": "4ea7fe01",
   "metadata": {},
   "outputs": [
    {
     "data": {
      "text/html": [
       "<div>\n",
       "<style scoped>\n",
       "    .dataframe tbody tr th:only-of-type {\n",
       "        vertical-align: middle;\n",
       "    }\n",
       "\n",
       "    .dataframe tbody tr th {\n",
       "        vertical-align: top;\n",
       "    }\n",
       "\n",
       "    .dataframe thead th {\n",
       "        text-align: right;\n",
       "    }\n",
       "</style>\n",
       "<table border=\"1\" class=\"dataframe\">\n",
       "  <thead>\n",
       "    <tr style=\"text-align: right;\">\n",
       "      <th></th>\n",
       "      <th>Cement</th>\n",
       "      <th>Blast Furnace Slag</th>\n",
       "      <th>Fly Ash</th>\n",
       "      <th>Water</th>\n",
       "      <th>Superplasticizer</th>\n",
       "      <th>Coarse Aggregate</th>\n",
       "      <th>Fine Aggregate</th>\n",
       "      <th>Age</th>\n",
       "    </tr>\n",
       "  </thead>\n",
       "  <tbody>\n",
       "    <tr>\n",
       "      <th>0</th>\n",
       "      <td>540.0</td>\n",
       "      <td>0.0</td>\n",
       "      <td>0.0</td>\n",
       "      <td>162.0</td>\n",
       "      <td>2.5</td>\n",
       "      <td>1040.0</td>\n",
       "      <td>676.0</td>\n",
       "      <td>28</td>\n",
       "    </tr>\n",
       "    <tr>\n",
       "      <th>1</th>\n",
       "      <td>540.0</td>\n",
       "      <td>0.0</td>\n",
       "      <td>0.0</td>\n",
       "      <td>162.0</td>\n",
       "      <td>2.5</td>\n",
       "      <td>1055.0</td>\n",
       "      <td>676.0</td>\n",
       "      <td>28</td>\n",
       "    </tr>\n",
       "    <tr>\n",
       "      <th>2</th>\n",
       "      <td>332.5</td>\n",
       "      <td>142.5</td>\n",
       "      <td>0.0</td>\n",
       "      <td>228.0</td>\n",
       "      <td>0.0</td>\n",
       "      <td>932.0</td>\n",
       "      <td>594.0</td>\n",
       "      <td>270</td>\n",
       "    </tr>\n",
       "    <tr>\n",
       "      <th>3</th>\n",
       "      <td>332.5</td>\n",
       "      <td>142.5</td>\n",
       "      <td>0.0</td>\n",
       "      <td>228.0</td>\n",
       "      <td>0.0</td>\n",
       "      <td>932.0</td>\n",
       "      <td>594.0</td>\n",
       "      <td>365</td>\n",
       "    </tr>\n",
       "    <tr>\n",
       "      <th>4</th>\n",
       "      <td>198.6</td>\n",
       "      <td>132.4</td>\n",
       "      <td>0.0</td>\n",
       "      <td>192.0</td>\n",
       "      <td>0.0</td>\n",
       "      <td>978.4</td>\n",
       "      <td>825.5</td>\n",
       "      <td>360</td>\n",
       "    </tr>\n",
       "  </tbody>\n",
       "</table>\n",
       "</div>"
      ],
      "text/plain": [
       "   Cement  Blast Furnace Slag  Fly Ash  Water  Superplasticizer  \\\n",
       "0   540.0                 0.0      0.0  162.0               2.5   \n",
       "1   540.0                 0.0      0.0  162.0               2.5   \n",
       "2   332.5               142.5      0.0  228.0               0.0   \n",
       "3   332.5               142.5      0.0  228.0               0.0   \n",
       "4   198.6               132.4      0.0  192.0               0.0   \n",
       "\n",
       "   Coarse Aggregate  Fine Aggregate  Age  \n",
       "0            1040.0           676.0   28  \n",
       "1            1055.0           676.0   28  \n",
       "2             932.0           594.0  270  \n",
       "3             932.0           594.0  365  \n",
       "4             978.4           825.5  360  "
      ]
     },
     "execution_count": 7,
     "metadata": {},
     "output_type": "execute_result"
    }
   ],
   "source": [
    "X.head()"
   ]
  },
  {
   "cell_type": "code",
   "execution_count": 8,
   "id": "1c36af75",
   "metadata": {},
   "outputs": [
    {
     "data": {
      "text/plain": [
       "0    79.99\n",
       "1    61.89\n",
       "2    40.27\n",
       "3    41.05\n",
       "4    44.30\n",
       "Name: Strength, dtype: float64"
      ]
     },
     "execution_count": 8,
     "metadata": {},
     "output_type": "execute_result"
    }
   ],
   "source": [
    "y.head()"
   ]
  },
  {
   "cell_type": "code",
   "execution_count": 9,
   "id": "eb06c8e4",
   "metadata": {},
   "outputs": [],
   "source": [
    "preprocessor = make_column_transformer(\n",
    "    (StandardScaler(),\n",
    "     make_column_selector(dtype_include=np.number)),\n",
    "    (OneHotEncoder(sparse=False),\n",
    "     make_column_selector(dtype_include=object)),\n",
    ")"
   ]
  },
  {
   "cell_type": "code",
   "execution_count": 10,
   "id": "a10e182b",
   "metadata": {},
   "outputs": [],
   "source": [
    "X = preprocessor.fit_transform(X)\n",
    "y = np.log(y)"
   ]
  },
  {
   "cell_type": "code",
   "execution_count": 11,
   "id": "85b83f8c",
   "metadata": {},
   "outputs": [
    {
     "data": {
      "text/plain": [
       "array([[ 2.47791487, -0.85688789, -0.84714393, ...,  0.86315424,\n",
       "        -1.21767004, -0.27973311],\n",
       "       [ 2.47791487, -0.85688789, -0.84714393, ...,  1.05616419,\n",
       "        -1.21767004, -0.27973311],\n",
       "       [ 0.49142531,  0.79552649, -0.84714393, ..., -0.52651741,\n",
       "        -2.24091709,  3.55306569],\n",
       "       ...,\n",
       "       [-1.27008832,  0.75957923,  0.85063487, ..., -1.03606368,\n",
       "         0.0801067 , -0.27973311],\n",
       "       [-1.16860982,  1.30806485, -0.84714393, ...,  0.21464081,\n",
       "         0.19116644, -0.27973311],\n",
       "       [-0.19403325,  0.30849909,  0.3769452 , ..., -1.39506219,\n",
       "        -0.15074782, -0.27973311]])"
      ]
     },
     "execution_count": 11,
     "metadata": {},
     "output_type": "execute_result"
    }
   ],
   "source": [
    "X"
   ]
  },
  {
   "cell_type": "code",
   "execution_count": 12,
   "id": "f0b1b1d4",
   "metadata": {},
   "outputs": [
    {
     "data": {
      "text/plain": [
       "0       4.381902\n",
       "1       4.125359\n",
       "2       3.695607\n",
       "3       3.714791\n",
       "4       3.790985\n",
       "          ...   \n",
       "1025    3.790533\n",
       "1026    3.439777\n",
       "1027    3.165475\n",
       "1028    3.489513\n",
       "1029    3.478158\n",
       "Name: Strength, Length: 1030, dtype: float64"
      ]
     },
     "execution_count": 12,
     "metadata": {},
     "output_type": "execute_result"
    }
   ],
   "source": [
    "y"
   ]
  },
  {
   "cell_type": "code",
   "execution_count": 13,
   "id": "b7965ca1",
   "metadata": {},
   "outputs": [
    {
     "name": "stdout",
     "output_type": "stream",
     "text": [
      "Input shape: [8]\n"
     ]
    }
   ],
   "source": [
    "input_shape = [X.shape[1]]\n",
    "print(\"Input shape: {}\".format(input_shape))"
   ]
  },
  {
   "cell_type": "code",
   "execution_count": 14,
   "id": "4c51cfdc",
   "metadata": {},
   "outputs": [
    {
     "data": {
      "text/html": [
       "<div>\n",
       "<style scoped>\n",
       "    .dataframe tbody tr th:only-of-type {\n",
       "        vertical-align: middle;\n",
       "    }\n",
       "\n",
       "    .dataframe tbody tr th {\n",
       "        vertical-align: top;\n",
       "    }\n",
       "\n",
       "    .dataframe thead th {\n",
       "        text-align: right;\n",
       "    }\n",
       "</style>\n",
       "<table border=\"1\" class=\"dataframe\">\n",
       "  <thead>\n",
       "    <tr style=\"text-align: right;\">\n",
       "      <th></th>\n",
       "      <th>0</th>\n",
       "      <th>1</th>\n",
       "      <th>2</th>\n",
       "      <th>3</th>\n",
       "      <th>4</th>\n",
       "      <th>5</th>\n",
       "      <th>6</th>\n",
       "      <th>7</th>\n",
       "    </tr>\n",
       "  </thead>\n",
       "  <tbody>\n",
       "    <tr>\n",
       "      <th>0</th>\n",
       "      <td>2.477915</td>\n",
       "      <td>-0.856888</td>\n",
       "      <td>-0.847144</td>\n",
       "      <td>-0.916764</td>\n",
       "      <td>-0.620448</td>\n",
       "      <td>0.863154</td>\n",
       "      <td>-1.217670</td>\n",
       "      <td>-0.279733</td>\n",
       "    </tr>\n",
       "    <tr>\n",
       "      <th>1</th>\n",
       "      <td>2.477915</td>\n",
       "      <td>-0.856888</td>\n",
       "      <td>-0.847144</td>\n",
       "      <td>-0.916764</td>\n",
       "      <td>-0.620448</td>\n",
       "      <td>1.056164</td>\n",
       "      <td>-1.217670</td>\n",
       "      <td>-0.279733</td>\n",
       "    </tr>\n",
       "    <tr>\n",
       "      <th>2</th>\n",
       "      <td>0.491425</td>\n",
       "      <td>0.795526</td>\n",
       "      <td>-0.847144</td>\n",
       "      <td>2.175461</td>\n",
       "      <td>-1.039143</td>\n",
       "      <td>-0.526517</td>\n",
       "      <td>-2.240917</td>\n",
       "      <td>3.553066</td>\n",
       "    </tr>\n",
       "    <tr>\n",
       "      <th>3</th>\n",
       "      <td>0.491425</td>\n",
       "      <td>0.795526</td>\n",
       "      <td>-0.847144</td>\n",
       "      <td>2.175461</td>\n",
       "      <td>-1.039143</td>\n",
       "      <td>-0.526517</td>\n",
       "      <td>-2.240917</td>\n",
       "      <td>5.057677</td>\n",
       "    </tr>\n",
       "    <tr>\n",
       "      <th>4</th>\n",
       "      <td>-0.790459</td>\n",
       "      <td>0.678408</td>\n",
       "      <td>-0.847144</td>\n",
       "      <td>0.488793</td>\n",
       "      <td>-1.039143</td>\n",
       "      <td>0.070527</td>\n",
       "      <td>0.647884</td>\n",
       "      <td>4.978487</td>\n",
       "    </tr>\n",
       "  </tbody>\n",
       "</table>\n",
       "</div>"
      ],
      "text/plain": [
       "          0         1         2         3         4         5         6  \\\n",
       "0  2.477915 -0.856888 -0.847144 -0.916764 -0.620448  0.863154 -1.217670   \n",
       "1  2.477915 -0.856888 -0.847144 -0.916764 -0.620448  1.056164 -1.217670   \n",
       "2  0.491425  0.795526 -0.847144  2.175461 -1.039143 -0.526517 -2.240917   \n",
       "3  0.491425  0.795526 -0.847144  2.175461 -1.039143 -0.526517 -2.240917   \n",
       "4 -0.790459  0.678408 -0.847144  0.488793 -1.039143  0.070527  0.647884   \n",
       "\n",
       "          7  \n",
       "0 -0.279733  \n",
       "1 -0.279733  \n",
       "2  3.553066  \n",
       "3  5.057677  \n",
       "4  4.978487  "
      ]
     },
     "execution_count": 14,
     "metadata": {},
     "output_type": "execute_result"
    }
   ],
   "source": [
    "pd.DataFrame(X[:10,:]).head()"
   ]
  },
  {
   "cell_type": "code",
   "execution_count": 15,
   "id": "e82c358a",
   "metadata": {},
   "outputs": [],
   "source": [
    "from tensorflow import keras\n",
    "from tensorflow.keras import layers"
   ]
  },
  {
   "cell_type": "code",
   "execution_count": 16,
   "id": "28382083",
   "metadata": {},
   "outputs": [],
   "source": [
    "model = keras.Sequential([\n",
    "    layers.Dense(128, activation='relu', input_shape=input_shape),\n",
    "    layers.Dense(128, activation='relu'),    \n",
    "    layers.Dense(64, activation='relu'),\n",
    "    layers.Dense(1),\n",
    "])"
   ]
  },
  {
   "cell_type": "markdown",
   "id": "82413f55",
   "metadata": {},
   "source": [
    "### Add loss and Optimizer."
   ]
  },
  {
   "cell_type": "code",
   "execution_count": 17,
   "id": "8d1e5e3f",
   "metadata": {},
   "outputs": [],
   "source": [
    "model.compile(\n",
    "    optimizer=\"adam\",\n",
    "    loss=\"mae\",\n",
    ")"
   ]
  },
  {
   "cell_type": "code",
   "execution_count": 18,
   "id": "cc51cdd3",
   "metadata": {
    "scrolled": true
   },
   "outputs": [
    {
     "name": "stdout",
     "output_type": "stream",
     "text": [
      "Epoch 1/200\n",
      "9/9 [==============================] - 1s 2ms/step - loss: 2.9778\n",
      "Epoch 2/200\n",
      "9/9 [==============================] - 0s 2ms/step - loss: 1.5379\n",
      "Epoch 3/200\n",
      "9/9 [==============================] - 0s 2ms/step - loss: 1.0144\n",
      "Epoch 4/200\n",
      "9/9 [==============================] - 0s 2ms/step - loss: 0.7934\n",
      "Epoch 5/200\n",
      "9/9 [==============================] - 0s 2ms/step - loss: 0.7631\n",
      "Epoch 6/200\n",
      "9/9 [==============================] - 0s 2ms/step - loss: 0.6986\n",
      "Epoch 7/200\n",
      "9/9 [==============================] - 0s 2ms/step - loss: 0.6614\n",
      "Epoch 8/200\n",
      "9/9 [==============================] - 0s 2ms/step - loss: 0.6223\n",
      "Epoch 9/200\n",
      "9/9 [==============================] - 0s 2ms/step - loss: 0.5850\n",
      "Epoch 10/200\n",
      "9/9 [==============================] - 0s 2ms/step - loss: 0.5612\n",
      "Epoch 11/200\n",
      "9/9 [==============================] - 0s 2ms/step - loss: 0.5175\n",
      "Epoch 12/200\n",
      "9/9 [==============================] - 0s 2ms/step - loss: 0.4879\n",
      "Epoch 13/200\n",
      "9/9 [==============================] - 0s 2ms/step - loss: 0.4617\n",
      "Epoch 14/200\n",
      "9/9 [==============================] - 0s 1ms/step - loss: 0.4267\n",
      "Epoch 15/200\n",
      "9/9 [==============================] - 0s 2ms/step - loss: 0.4013\n",
      "Epoch 16/200\n",
      "9/9 [==============================] - 0s 1ms/step - loss: 0.3723\n",
      "Epoch 17/200\n",
      "9/9 [==============================] - 0s 1ms/step - loss: 0.3431\n",
      "Epoch 18/200\n",
      "9/9 [==============================] - 0s 1ms/step - loss: 0.3346\n",
      "Epoch 19/200\n",
      "9/9 [==============================] - 0s 1ms/step - loss: 0.3159\n",
      "Epoch 20/200\n",
      "9/9 [==============================] - 0s 1ms/step - loss: 0.2907\n",
      "Epoch 21/200\n",
      "9/9 [==============================] - 0s 1ms/step - loss: 0.2980\n",
      "Epoch 22/200\n",
      "9/9 [==============================] - 0s 1ms/step - loss: 0.2726\n",
      "Epoch 23/200\n",
      "9/9 [==============================] - 0s 2ms/step - loss: 0.2654\n",
      "Epoch 24/200\n",
      "9/9 [==============================] - 0s 1ms/step - loss: 0.2475\n",
      "Epoch 25/200\n",
      "9/9 [==============================] - 0s 2ms/step - loss: 0.2396\n",
      "Epoch 26/200\n",
      "9/9 [==============================] - 0s 2ms/step - loss: 0.2517\n",
      "Epoch 27/200\n",
      "9/9 [==============================] - 0s 1ms/step - loss: 0.2291\n",
      "Epoch 28/200\n",
      "9/9 [==============================] - 0s 2ms/step - loss: 0.2293\n",
      "Epoch 29/200\n",
      "9/9 [==============================] - 0s 2ms/step - loss: 0.2289\n",
      "Epoch 30/200\n",
      "9/9 [==============================] - 0s 1ms/step - loss: 0.2352\n",
      "Epoch 31/200\n",
      "9/9 [==============================] - 0s 1ms/step - loss: 0.2237\n",
      "Epoch 32/200\n",
      "9/9 [==============================] - 0s 1ms/step - loss: 0.2188\n",
      "Epoch 33/200\n",
      "9/9 [==============================] - 0s 1ms/step - loss: 0.2319\n",
      "Epoch 34/200\n",
      "9/9 [==============================] - 0s 1ms/step - loss: 0.2206\n",
      "Epoch 35/200\n",
      "9/9 [==============================] - 0s 2ms/step - loss: 0.1916\n",
      "Epoch 36/200\n",
      "9/9 [==============================] - 0s 1ms/step - loss: 0.1968\n",
      "Epoch 37/200\n",
      "9/9 [==============================] - 0s 2ms/step - loss: 0.1981\n",
      "Epoch 38/200\n",
      "9/9 [==============================] - 0s 1ms/step - loss: 0.1983\n",
      "Epoch 39/200\n",
      "9/9 [==============================] - 0s 2ms/step - loss: 0.1781\n",
      "Epoch 40/200\n",
      "9/9 [==============================] - 0s 2ms/step - loss: 0.1880\n",
      "Epoch 41/200\n",
      "9/9 [==============================] - 0s 2ms/step - loss: 0.1620\n",
      "Epoch 42/200\n",
      "9/9 [==============================] - 0s 2ms/step - loss: 0.1545\n",
      "Epoch 43/200\n",
      "9/9 [==============================] - 0s 1ms/step - loss: 0.1504\n",
      "Epoch 44/200\n",
      "9/9 [==============================] - 0s 1ms/step - loss: 0.1559\n",
      "Epoch 45/200\n",
      "9/9 [==============================] - 0s 1ms/step - loss: 0.1648\n",
      "Epoch 46/200\n",
      "9/9 [==============================] - 0s 2ms/step - loss: 0.1727\n",
      "Epoch 47/200\n",
      "9/9 [==============================] - 0s 2ms/step - loss: 0.1589\n",
      "Epoch 48/200\n",
      "9/9 [==============================] - 0s 1ms/step - loss: 0.1617\n",
      "Epoch 49/200\n",
      "9/9 [==============================] - 0s 1ms/step - loss: 0.1492\n",
      "Epoch 50/200\n",
      "9/9 [==============================] - 0s 1ms/step - loss: 0.1564\n",
      "Epoch 51/200\n",
      "9/9 [==============================] - 0s 2ms/step - loss: 0.1488\n",
      "Epoch 52/200\n",
      "9/9 [==============================] - 0s 2ms/step - loss: 0.1369\n",
      "Epoch 53/200\n",
      "9/9 [==============================] - 0s 1ms/step - loss: 0.1312\n",
      "Epoch 54/200\n",
      "9/9 [==============================] - 0s 1ms/step - loss: 0.1367\n",
      "Epoch 55/200\n",
      "9/9 [==============================] - 0s 1ms/step - loss: 0.1514\n",
      "Epoch 56/200\n",
      "9/9 [==============================] - 0s 1ms/step - loss: 0.1413\n",
      "Epoch 57/200\n",
      "9/9 [==============================] - 0s 1ms/step - loss: 0.1322\n",
      "Epoch 58/200\n",
      "9/9 [==============================] - 0s 1ms/step - loss: 0.1748\n",
      "Epoch 59/200\n",
      "9/9 [==============================] - 0s 1ms/step - loss: 0.1495\n",
      "Epoch 60/200\n",
      "9/9 [==============================] - 0s 1ms/step - loss: 0.1376\n",
      "Epoch 61/200\n",
      "9/9 [==============================] - 0s 1ms/step - loss: 0.1341\n",
      "Epoch 62/200\n",
      "9/9 [==============================] - 0s 1ms/step - loss: 0.1280\n",
      "Epoch 63/200\n",
      "9/9 [==============================] - 0s 1ms/step - loss: 0.1296\n",
      "Epoch 64/200\n",
      "9/9 [==============================] - 0s 1ms/step - loss: 0.1285\n",
      "Epoch 65/200\n",
      "9/9 [==============================] - 0s 1ms/step - loss: 0.1576\n",
      "Epoch 66/200\n",
      "9/9 [==============================] - 0s 1ms/step - loss: 0.1274\n",
      "Epoch 67/200\n",
      "9/9 [==============================] - 0s 1ms/step - loss: 0.1214\n",
      "Epoch 68/200\n",
      "9/9 [==============================] - 0s 1ms/step - loss: 0.1167\n",
      "Epoch 69/200\n",
      "9/9 [==============================] - 0s 1ms/step - loss: 0.1222\n",
      "Epoch 70/200\n",
      "9/9 [==============================] - 0s 1ms/step - loss: 0.1166\n",
      "Epoch 71/200\n",
      "9/9 [==============================] - 0s 1ms/step - loss: 0.1174\n",
      "Epoch 72/200\n",
      "9/9 [==============================] - 0s 1ms/step - loss: 0.1197\n",
      "Epoch 73/200\n",
      "9/9 [==============================] - 0s 1ms/step - loss: 0.1264\n",
      "Epoch 74/200\n",
      "9/9 [==============================] - 0s 1ms/step - loss: 0.1255\n",
      "Epoch 75/200\n",
      "9/9 [==============================] - 0s 1ms/step - loss: 0.1226\n",
      "Epoch 76/200\n",
      "9/9 [==============================] - 0s 1ms/step - loss: 0.1158\n",
      "Epoch 77/200\n",
      "9/9 [==============================] - 0s 1ms/step - loss: 0.1338\n",
      "Epoch 78/200\n",
      "9/9 [==============================] - 0s 1ms/step - loss: 0.1310\n",
      "Epoch 79/200\n",
      "9/9 [==============================] - 0s 1ms/step - loss: 0.1226\n",
      "Epoch 80/200\n",
      "9/9 [==============================] - 0s 1ms/step - loss: 0.1293\n",
      "Epoch 81/200\n",
      "9/9 [==============================] - 0s 1ms/step - loss: 0.1257\n",
      "Epoch 82/200\n",
      "9/9 [==============================] - 0s 1ms/step - loss: 0.1201\n",
      "Epoch 83/200\n",
      "9/9 [==============================] - 0s 1ms/step - loss: 0.1255\n",
      "Epoch 84/200\n",
      "9/9 [==============================] - 0s 1ms/step - loss: 0.1447\n",
      "Epoch 85/200\n",
      "9/9 [==============================] - 0s 1ms/step - loss: 0.1322\n",
      "Epoch 86/200\n",
      "9/9 [==============================] - 0s 1ms/step - loss: 0.1203\n",
      "Epoch 87/200\n",
      "9/9 [==============================] - 0s 1ms/step - loss: 0.1344\n",
      "Epoch 88/200\n",
      "9/9 [==============================] - 0s 1ms/step - loss: 0.1280\n",
      "Epoch 89/200\n",
      "9/9 [==============================] - 0s 1ms/step - loss: 0.1526\n",
      "Epoch 90/200\n",
      "9/9 [==============================] - 0s 1ms/step - loss: 0.1424\n",
      "Epoch 91/200\n",
      "9/9 [==============================] - 0s 1ms/step - loss: 0.1514\n",
      "Epoch 92/200\n",
      "9/9 [==============================] - 0s 1ms/step - loss: 0.1471\n",
      "Epoch 93/200\n",
      "9/9 [==============================] - 0s 1ms/step - loss: 0.1343\n",
      "Epoch 94/200\n",
      "9/9 [==============================] - 0s 1ms/step - loss: 0.1288\n",
      "Epoch 95/200\n",
      "9/9 [==============================] - 0s 2ms/step - loss: 0.1223\n",
      "Epoch 96/200\n",
      "9/9 [==============================] - 0s 1ms/step - loss: 0.1234\n",
      "Epoch 97/200\n",
      "9/9 [==============================] - 0s 1ms/step - loss: 0.1121\n",
      "Epoch 98/200\n",
      "9/9 [==============================] - 0s 1ms/step - loss: 0.1204\n",
      "Epoch 99/200\n",
      "9/9 [==============================] - 0s 1ms/step - loss: 0.1241\n",
      "Epoch 100/200\n",
      "9/9 [==============================] - 0s 1ms/step - loss: 0.1296\n",
      "Epoch 101/200\n",
      "9/9 [==============================] - 0s 1ms/step - loss: 0.1252\n",
      "Epoch 102/200\n",
      "9/9 [==============================] - 0s 1ms/step - loss: 0.1124\n",
      "Epoch 103/200\n",
      "9/9 [==============================] - 0s 1ms/step - loss: 0.1139\n",
      "Epoch 104/200\n"
     ]
    },
    {
     "name": "stdout",
     "output_type": "stream",
     "text": [
      "9/9 [==============================] - 0s 1ms/step - loss: 0.1273\n",
      "Epoch 105/200\n",
      "9/9 [==============================] - 0s 1ms/step - loss: 0.1423\n",
      "Epoch 106/200\n",
      "9/9 [==============================] - 0s 1ms/step - loss: 0.1338\n",
      "Epoch 107/200\n",
      "9/9 [==============================] - 0s 1ms/step - loss: 0.1251\n",
      "Epoch 108/200\n",
      "9/9 [==============================] - 0s 1ms/step - loss: 0.1264\n",
      "Epoch 109/200\n",
      "9/9 [==============================] - 0s 1ms/step - loss: 0.1324\n",
      "Epoch 110/200\n",
      "9/9 [==============================] - 0s 1ms/step - loss: 0.1179\n",
      "Epoch 111/200\n",
      "9/9 [==============================] - 0s 1ms/step - loss: 0.1192\n",
      "Epoch 112/200\n",
      "9/9 [==============================] - 0s 1ms/step - loss: 0.1236\n",
      "Epoch 113/200\n",
      "9/9 [==============================] - 0s 1ms/step - loss: 0.1209\n",
      "Epoch 114/200\n",
      "9/9 [==============================] - 0s 1ms/step - loss: 0.1104\n",
      "Epoch 115/200\n",
      "9/9 [==============================] - 0s 2ms/step - loss: 0.1019\n",
      "Epoch 116/200\n",
      "9/9 [==============================] - 0s 1ms/step - loss: 0.1102\n",
      "Epoch 117/200\n",
      "9/9 [==============================] - 0s 1ms/step - loss: 0.1136\n",
      "Epoch 118/200\n",
      "9/9 [==============================] - 0s 1ms/step - loss: 0.1155\n",
      "Epoch 119/200\n",
      "9/9 [==============================] - 0s 1ms/step - loss: 0.1043\n",
      "Epoch 120/200\n",
      "9/9 [==============================] - 0s 1ms/step - loss: 0.1031\n",
      "Epoch 121/200\n",
      "9/9 [==============================] - 0s 1ms/step - loss: 0.1021\n",
      "Epoch 122/200\n",
      "9/9 [==============================] - 0s 1ms/step - loss: 0.1242\n",
      "Epoch 123/200\n",
      "9/9 [==============================] - 0s 1ms/step - loss: 0.1293\n",
      "Epoch 124/200\n",
      "9/9 [==============================] - 0s 1ms/step - loss: 0.1244\n",
      "Epoch 125/200\n",
      "9/9 [==============================] - 0s 1ms/step - loss: 0.1149\n",
      "Epoch 126/200\n",
      "9/9 [==============================] - 0s 1ms/step - loss: 0.0990\n",
      "Epoch 127/200\n",
      "9/9 [==============================] - 0s 1ms/step - loss: 0.1143\n",
      "Epoch 128/200\n",
      "9/9 [==============================] - 0s 1ms/step - loss: 0.1154\n",
      "Epoch 129/200\n",
      "9/9 [==============================] - 0s 1ms/step - loss: 0.1070\n",
      "Epoch 130/200\n",
      "9/9 [==============================] - 0s 1ms/step - loss: 0.0967\n",
      "Epoch 131/200\n",
      "9/9 [==============================] - 0s 2ms/step - loss: 0.1120\n",
      "Epoch 132/200\n",
      "9/9 [==============================] - 0s 1ms/step - loss: 0.0997\n",
      "Epoch 133/200\n",
      "9/9 [==============================] - 0s 1ms/step - loss: 0.0934\n",
      "Epoch 134/200\n",
      "9/9 [==============================] - 0s 1ms/step - loss: 0.1015\n",
      "Epoch 135/200\n",
      "9/9 [==============================] - 0s 1ms/step - loss: 0.1100\n",
      "Epoch 136/200\n",
      "9/9 [==============================] - 0s 1ms/step - loss: 0.0989\n",
      "Epoch 137/200\n",
      "9/9 [==============================] - 0s 1ms/step - loss: 0.0909\n",
      "Epoch 138/200\n",
      "9/9 [==============================] - 0s 1ms/step - loss: 0.0926\n",
      "Epoch 139/200\n",
      "9/9 [==============================] - 0s 1ms/step - loss: 0.0922\n",
      "Epoch 140/200\n",
      "9/9 [==============================] - 0s 1ms/step - loss: 0.1155\n",
      "Epoch 141/200\n",
      "9/9 [==============================] - 0s 1ms/step - loss: 0.1119\n",
      "Epoch 142/200\n",
      "9/9 [==============================] - 0s 1ms/step - loss: 0.1125\n",
      "Epoch 143/200\n",
      "9/9 [==============================] - 0s 1ms/step - loss: 0.1081\n",
      "Epoch 144/200\n",
      "9/9 [==============================] - 0s 1ms/step - loss: 0.1000\n",
      "Epoch 145/200\n",
      "9/9 [==============================] - 0s 1ms/step - loss: 0.1019\n",
      "Epoch 146/200\n",
      "9/9 [==============================] - 0s 1ms/step - loss: 0.0915\n",
      "Epoch 147/200\n",
      "9/9 [==============================] - 0s 1ms/step - loss: 0.0894\n",
      "Epoch 148/200\n",
      "9/9 [==============================] - 0s 1ms/step - loss: 0.0873\n",
      "Epoch 149/200\n",
      "9/9 [==============================] - 0s 1ms/step - loss: 0.0950\n",
      "Epoch 150/200\n",
      "9/9 [==============================] - 0s 1ms/step - loss: 0.0906\n",
      "Epoch 151/200\n",
      "9/9 [==============================] - 0s 1ms/step - loss: 0.1057\n",
      "Epoch 152/200\n",
      "9/9 [==============================] - 0s 1ms/step - loss: 0.0905\n",
      "Epoch 153/200\n",
      "9/9 [==============================] - 0s 1ms/step - loss: 0.1013\n",
      "Epoch 154/200\n",
      "9/9 [==============================] - 0s 1ms/step - loss: 0.1075\n",
      "Epoch 155/200\n",
      "9/9 [==============================] - 0s 1ms/step - loss: 0.1095\n",
      "Epoch 156/200\n",
      "9/9 [==============================] - 0s 1ms/step - loss: 0.1007\n",
      "Epoch 157/200\n",
      "9/9 [==============================] - 0s 1ms/step - loss: 0.1103\n",
      "Epoch 158/200\n",
      "9/9 [==============================] - 0s 1ms/step - loss: 0.1015\n",
      "Epoch 159/200\n",
      "9/9 [==============================] - 0s 1ms/step - loss: 0.1029\n",
      "Epoch 160/200\n",
      "9/9 [==============================] - 0s 1ms/step - loss: 0.1027\n",
      "Epoch 161/200\n",
      "9/9 [==============================] - 0s 1ms/step - loss: 0.1042\n",
      "Epoch 162/200\n",
      "9/9 [==============================] - 0s 1ms/step - loss: 0.1039\n",
      "Epoch 163/200\n",
      "9/9 [==============================] - 0s 1ms/step - loss: 0.0967\n",
      "Epoch 164/200\n",
      "9/9 [==============================] - 0s 1ms/step - loss: 0.1008\n",
      "Epoch 165/200\n",
      "9/9 [==============================] - 0s 1ms/step - loss: 0.1050\n",
      "Epoch 166/200\n",
      "9/9 [==============================] - 0s 1ms/step - loss: 0.0979\n",
      "Epoch 167/200\n",
      "9/9 [==============================] - 0s 1ms/step - loss: 0.0855\n",
      "Epoch 168/200\n",
      "9/9 [==============================] - 0s 1ms/step - loss: 0.0893\n",
      "Epoch 169/200\n",
      "9/9 [==============================] - 0s 1ms/step - loss: 0.0923\n",
      "Epoch 170/200\n",
      "9/9 [==============================] - 0s 1ms/step - loss: 0.1079\n",
      "Epoch 171/200\n",
      "9/9 [==============================] - 0s 1ms/step - loss: 0.0898\n",
      "Epoch 172/200\n",
      "9/9 [==============================] - 0s 1ms/step - loss: 0.0880\n",
      "Epoch 173/200\n",
      "9/9 [==============================] - 0s 1ms/step - loss: 0.1037\n",
      "Epoch 174/200\n",
      "9/9 [==============================] - 0s 1ms/step - loss: 0.0981\n",
      "Epoch 175/200\n",
      "9/9 [==============================] - 0s 1ms/step - loss: 0.0990\n",
      "Epoch 176/200\n",
      "9/9 [==============================] - 0s 1ms/step - loss: 0.0923\n",
      "Epoch 177/200\n",
      "9/9 [==============================] - 0s 1ms/step - loss: 0.1074\n",
      "Epoch 178/200\n",
      "9/9 [==============================] - 0s 1ms/step - loss: 0.0911\n",
      "Epoch 179/200\n",
      "9/9 [==============================] - 0s 1ms/step - loss: 0.0962\n",
      "Epoch 180/200\n",
      "9/9 [==============================] - 0s 1ms/step - loss: 0.0962\n",
      "Epoch 181/200\n",
      "9/9 [==============================] - 0s 1ms/step - loss: 0.1026\n",
      "Epoch 182/200\n",
      "9/9 [==============================] - 0s 1ms/step - loss: 0.1378\n",
      "Epoch 183/200\n",
      "9/9 [==============================] - 0s 1ms/step - loss: 0.1162\n",
      "Epoch 184/200\n",
      "9/9 [==============================] - 0s 1ms/step - loss: 0.1047\n",
      "Epoch 185/200\n",
      "9/9 [==============================] - 0s 1ms/step - loss: 0.1073\n",
      "Epoch 186/200\n",
      "9/9 [==============================] - 0s 1ms/step - loss: 0.1207\n",
      "Epoch 187/200\n",
      "9/9 [==============================] - 0s 1ms/step - loss: 0.1321\n",
      "Epoch 188/200\n",
      "9/9 [==============================] - 0s 1ms/step - loss: 0.1088\n",
      "Epoch 189/200\n",
      "9/9 [==============================] - 0s 1ms/step - loss: 0.0872\n",
      "Epoch 190/200\n",
      "9/9 [==============================] - 0s 1ms/step - loss: 0.0898\n",
      "Epoch 191/200\n",
      "9/9 [==============================] - 0s 1ms/step - loss: 0.1005\n",
      "Epoch 192/200\n",
      "9/9 [==============================] - 0s 1ms/step - loss: 0.0916\n",
      "Epoch 193/200\n",
      "9/9 [==============================] - 0s 1ms/step - loss: 0.0932\n",
      "Epoch 194/200\n",
      "9/9 [==============================] - 0s 1ms/step - loss: 0.0891\n",
      "Epoch 195/200\n",
      "9/9 [==============================] - 0s 1ms/step - loss: 0.0883\n",
      "Epoch 196/200\n",
      "9/9 [==============================] - 0s 1ms/step - loss: 0.0787\n",
      "Epoch 197/200\n",
      "9/9 [==============================] - 0s 1ms/step - loss: 0.0760\n",
      "Epoch 198/200\n",
      "9/9 [==============================] - 0s 1ms/step - loss: 0.0783\n",
      "Epoch 199/200\n",
      "9/9 [==============================] - 0s 1ms/step - loss: 0.0791\n",
      "Epoch 200/200\n",
      "9/9 [==============================] - 0s 1ms/step - loss: 0.0851\n"
     ]
    }
   ],
   "source": [
    "history = model.fit(\n",
    "    X, y,\n",
    "    batch_size=128,\n",
    "    epochs=200,\n",
    ")"
   ]
  },
  {
   "cell_type": "code",
   "execution_count": 19,
   "id": "65f3d16d",
   "metadata": {},
   "outputs": [
    {
     "data": {
      "image/png": "[encoded data removed]",
      "text/plain": [
       "<Figure size 432x288 with 1 Axes>"
      ]
     },
     "metadata": {
      "needs_background": "light"
     },
     "output_type": "display_data"
    }
   ],
   "source": [
    "history_df = pd.DataFrame(history.history)\n",
    "# Start the plot at epoch 5. You can change this to get a different view.\n",
    "history_df.loc[5:, ['loss']].plot();"
   ]
  },
  {
   "cell_type": "markdown",
   "id": "977c8567",
   "metadata": {},
   "source": [
    "### Overfitting & underfitting."
   ]
  },
  {
   "cell_type": "code",
   "execution_count": 20,
   "id": "1f148e4d",
   "metadata": {},
   "outputs": [],
   "source": [
    "X = df.copy()\n",
    "# Remove target\n",
    "y = X.pop('Strength')"
   ]
  },
  {
   "cell_type": "code",
   "execution_count": 21,
   "id": "5d51ea55",
   "metadata": {},
   "outputs": [],
   "source": [
    "X_train, X_valid, y_train, y_valid = train_test_split(X, y, test_size=0.25, random_state=42)"
   ]
  },
  {
   "cell_type": "code",
   "execution_count": 22,
   "id": "831f652b",
   "metadata": {},
   "outputs": [],
   "source": [
    "X_train = preprocessor.fit_transform(X_train)\n",
    "X_valid = preprocessor.transform(X_valid)\n",
    "y_train = y_train / 100 # popularity is on a scale 0-100, so this rescales to 0-1.\n",
    "y_valid = y_valid / 100"
   ]
  },
  {
   "cell_type": "code",
   "execution_count": 23,
   "id": "7eff126d",
   "metadata": {},
   "outputs": [
    {
     "name": "stdout",
     "output_type": "stream",
     "text": [
      "Input shape: [8]\n"
     ]
    }
   ],
   "source": [
    "input_shape = [X_train.shape[1]]\n",
    "print(\"Input shape: {}\".format(input_shape))"
   ]
  },
  {
   "cell_type": "code",
   "execution_count": 24,
   "id": "49f2f0ba",
   "metadata": {},
   "outputs": [
    {
     "name": "stdout",
     "output_type": "stream",
     "text": [
      "Minimum Validation Loss: 0.0798\n"
     ]
    },
    {
     "data": {
      "image/png": "[encoded data removed]",
      "text/plain": [
       "<Figure size 432x288 with 1 Axes>"
      ]
     },
     "metadata": {
      "needs_background": "light"
     },
     "output_type": "display_data"
    }
   ],
   "source": [
    "model = keras.Sequential([\n",
    "    layers.Dense(1, input_shape=input_shape),\n",
    "])\n",
    "model.compile(\n",
    "    optimizer='adam',\n",
    "    loss='mae',\n",
    ")\n",
    "history = model.fit(\n",
    "    X_train, y_train,\n",
    "    validation_data=(X_valid, y_valid),\n",
    "    batch_size=16,\n",
    "    epochs=100,\n",
    "    verbose=0, # suppress output since we'll plot the curves\n",
    ")\n",
    "history_df = pd.DataFrame(history.history)\n",
    "history_df.loc[0:, ['loss', 'val_loss']].plot()\n",
    "print(\"Minimum Validation Loss: {:0.4f}\".format(history_df['val_loss'].min()));"
   ]
  },
  {
   "cell_type": "code",
   "execution_count": 25,
   "id": "704a68d1",
   "metadata": {},
   "outputs": [
    {
     "name": "stdout",
     "output_type": "stream",
     "text": [
      "Minimum Validation Loss: 0.0798\n"
     ]
    },
    {
     "data": {
      "image/png": "[encoded data removed]",
      "text/plain": [
       "<Figure size 432x288 with 1 Axes>"
      ]
     },
     "metadata": {
      "needs_background": "light"
     },
     "output_type": "display_data"
    }
   ],
   "source": [
    "history_df.loc[5:, ['loss', 'val_loss']].plot()\n",
    "print(\"Minimum Validation Loss: {:0.4f}\".format(history_df['val_loss'].min()));"
   ]
  },
  {
   "cell_type": "code",
   "execution_count": 26,
   "id": "0093e429",
   "metadata": {},
   "outputs": [
    {
     "name": "stdout",
     "output_type": "stream",
     "text": [
      "Epoch 1/50\n",
      "25/25 [==============================] - 0s 5ms/step - loss: 0.1331 - val_loss: 0.1001\n",
      "Epoch 2/50\n",
      "25/25 [==============================] - 0s 2ms/step - loss: 0.0950 - val_loss: 0.0879\n",
      "Epoch 3/50\n",
      "25/25 [==============================] - 0s 2ms/step - loss: 0.0717 - val_loss: 0.0758\n",
      "Epoch 4/50\n",
      "25/25 [==============================] - 0s 2ms/step - loss: 0.0623 - val_loss: 0.0707\n",
      "Epoch 5/50\n",
      "25/25 [==============================] - 0s 2ms/step - loss: 0.0587 - val_loss: 0.0632\n",
      "Epoch 6/50\n",
      "25/25 [==============================] - 0s 2ms/step - loss: 0.0574 - val_loss: 0.0623\n",
      "Epoch 7/50\n",
      "25/25 [==============================] - 0s 2ms/step - loss: 0.0513 - val_loss: 0.0544\n",
      "Epoch 8/50\n",
      "25/25 [==============================] - 0s 2ms/step - loss: 0.0480 - val_loss: 0.0533\n",
      "Epoch 9/50\n",
      "25/25 [==============================] - 0s 2ms/step - loss: 0.0459 - val_loss: 0.0568\n",
      "Epoch 10/50\n",
      "25/25 [==============================] - 0s 2ms/step - loss: 0.0457 - val_loss: 0.0569\n",
      "Epoch 11/50\n",
      "25/25 [==============================] - 0s 2ms/step - loss: 0.0455 - val_loss: 0.0558\n",
      "Epoch 12/50\n",
      "25/25 [==============================] - 0s 2ms/step - loss: 0.0458 - val_loss: 0.0515\n",
      "Epoch 13/50\n",
      "25/25 [==============================] - 0s 2ms/step - loss: 0.0409 - val_loss: 0.0485\n",
      "Epoch 14/50\n",
      "25/25 [==============================] - 0s 2ms/step - loss: 0.0388 - val_loss: 0.0520\n",
      "Epoch 15/50\n",
      "25/25 [==============================] - 0s 2ms/step - loss: 0.0427 - val_loss: 0.0507\n",
      "Epoch 16/50\n",
      "25/25 [==============================] - 0s 2ms/step - loss: 0.0396 - val_loss: 0.0558\n",
      "Epoch 17/50\n",
      "25/25 [==============================] - 0s 2ms/step - loss: 0.0425 - val_loss: 0.0586\n",
      "Epoch 18/50\n",
      "25/25 [==============================] - 0s 2ms/step - loss: 0.0405 - val_loss: 0.0467\n",
      "Epoch 19/50\n",
      "25/25 [==============================] - 0s 2ms/step - loss: 0.0386 - val_loss: 0.0465\n",
      "Epoch 20/50\n",
      "25/25 [==============================] - 0s 2ms/step - loss: 0.0398 - val_loss: 0.0533\n",
      "Epoch 21/50\n",
      "25/25 [==============================] - 0s 2ms/step - loss: 0.0389 - val_loss: 0.0441\n",
      "Epoch 22/50\n",
      "25/25 [==============================] - 0s 2ms/step - loss: 0.0361 - val_loss: 0.0467\n",
      "Epoch 23/50\n",
      "25/25 [==============================] - 0s 2ms/step - loss: 0.0366 - val_loss: 0.0445\n",
      "Epoch 24/50\n",
      "25/25 [==============================] - 0s 2ms/step - loss: 0.0378 - val_loss: 0.0452\n",
      "Epoch 25/50\n",
      "25/25 [==============================] - 0s 2ms/step - loss: 0.0372 - val_loss: 0.0469\n",
      "Epoch 26/50\n",
      "25/25 [==============================] - 0s 2ms/step - loss: 0.0348 - val_loss: 0.0405\n",
      "Epoch 27/50\n",
      "25/25 [==============================] - 0s 2ms/step - loss: 0.0357 - val_loss: 0.0565\n",
      "Epoch 28/50\n",
      "25/25 [==============================] - 0s 2ms/step - loss: 0.0395 - val_loss: 0.0464\n",
      "Epoch 29/50\n",
      "25/25 [==============================] - 0s 2ms/step - loss: 0.0371 - val_loss: 0.0403\n",
      "Epoch 30/50\n",
      "25/25 [==============================] - 0s 2ms/step - loss: 0.0320 - val_loss: 0.0424\n",
      "Epoch 31/50\n",
      "25/25 [==============================] - 0s 2ms/step - loss: 0.0313 - val_loss: 0.0429\n",
      "Epoch 32/50\n",
      "25/25 [==============================] - 0s 2ms/step - loss: 0.0296 - val_loss: 0.0426\n",
      "Epoch 33/50\n",
      "25/25 [==============================] - 0s 2ms/step - loss: 0.0351 - val_loss: 0.0421\n",
      "Epoch 34/50\n",
      "25/25 [==============================] - 0s 2ms/step - loss: 0.0322 - val_loss: 0.0449\n",
      "Epoch 35/50\n",
      "25/25 [==============================] - 0s 2ms/step - loss: 0.0329 - val_loss: 0.0466\n",
      "Epoch 36/50\n",
      "25/25 [==============================] - 0s 2ms/step - loss: 0.0319 - val_loss: 0.0401\n",
      "Epoch 37/50\n",
      "25/25 [==============================] - 0s 2ms/step - loss: 0.0322 - val_loss: 0.0454\n",
      "Epoch 38/50\n",
      "25/25 [==============================] - 0s 2ms/step - loss: 0.0321 - val_loss: 0.0407\n",
      "Epoch 39/50\n",
      "25/25 [==============================] - 0s 2ms/step - loss: 0.0277 - val_loss: 0.0402\n",
      "Epoch 40/50\n",
      "25/25 [==============================] - 0s 2ms/step - loss: 0.0302 - val_loss: 0.0513\n",
      "Epoch 41/50\n",
      "25/25 [==============================] - 0s 2ms/step - loss: 0.0355 - val_loss: 0.0495\n",
      "Epoch 42/50\n",
      "25/25 [==============================] - 0s 2ms/step - loss: 0.0320 - val_loss: 0.0435\n",
      "Epoch 43/50\n",
      "25/25 [==============================] - 0s 2ms/step - loss: 0.0367 - val_loss: 0.0394\n",
      "Epoch 44/50\n",
      "25/25 [==============================] - 0s 2ms/step - loss: 0.0285 - val_loss: 0.0385\n",
      "Epoch 45/50\n",
      "25/25 [==============================] - 0s 2ms/step - loss: 0.0299 - val_loss: 0.0464\n",
      "Epoch 46/50\n",
      "25/25 [==============================] - 0s 2ms/step - loss: 0.0333 - val_loss: 0.0478\n",
      "Epoch 47/50\n",
      "25/25 [==============================] - 0s 2ms/step - loss: 0.0307 - val_loss: 0.0409\n",
      "Epoch 48/50\n",
      "25/25 [==============================] - 0s 2ms/step - loss: 0.0280 - val_loss: 0.0493\n",
      "Epoch 49/50\n",
      "25/25 [==============================] - 0s 2ms/step - loss: 0.0322 - val_loss: 0.0476\n",
      "Epoch 50/50\n",
      "25/25 [==============================] - 0s 2ms/step - loss: 0.0289 - val_loss: 0.0408\n",
      "Minimum Validation Loss: 0.0385\n"
     ]
    },
    {
     "data": {
      "image/png": "[encoded data removed]",
      "text/plain": [
       "<Figure size 432x288 with 1 Axes>"
      ]
     },
     "metadata": {
      "needs_background": "light"
     },
     "output_type": "display_data"
    }
   ],
   "source": [
    "model = keras.Sequential([\n",
    "    layers.Dense(128, activation='relu', input_shape=input_shape),\n",
    "    layers.Dense(64, activation='relu'),\n",
    "    layers.Dense(1)\n",
    "])\n",
    "model.compile(\n",
    "    optimizer='adam',\n",
    "    loss='mae',\n",
    ")\n",
    "history = model.fit(\n",
    "    X_train, y_train,\n",
    "    validation_data=(X_valid, y_valid),\n",
    "    batch_size=32,\n",
    "    epochs=50,\n",
    ")\n",
    "history_df = pd.DataFrame(history.history)\n",
    "history_df.loc[:, ['loss', 'val_loss']].plot()\n",
    "print(\"Minimum Validation Loss: {:0.4f}\".format(history_df['val_loss'].min()));"
   ]
  },
  {
   "cell_type": "markdown",
   "id": "53f4eb54",
   "metadata": {},
   "source": [
    "### Define Early Stopping Callback"
   ]
  },
  {
   "cell_type": "code",
   "execution_count": 27,
   "id": "2abe12b2",
   "metadata": {},
   "outputs": [],
   "source": [
    "from tensorflow.keras import callbacks\n",
    "early_stopping = callbacks.EarlyStopping(\n",
    "    min_delta=0.001, # minimium amount of change to count as an improvement\n",
    "    patience=5, # how many epochs to wait before stopping\n",
    "    restore_best_weights=True,\n",
    ")"
   ]
  },
  {
   "cell_type": "code",
   "execution_count": 28,
   "id": "dbd1f693",
   "metadata": {},
   "outputs": [
    {
     "name": "stdout",
     "output_type": "stream",
     "text": [
      "Epoch 1/50\n",
      "25/25 [==============================] - 0s 5ms/step - loss: 0.1848 - val_loss: 0.1112\n",
      "Epoch 2/50\n",
      "25/25 [==============================] - 0s 2ms/step - loss: 0.1031 - val_loss: 0.0873\n",
      "Epoch 3/50\n",
      "25/25 [==============================] - 0s 2ms/step - loss: 0.0803 - val_loss: 0.0788\n",
      "Epoch 4/50\n",
      "25/25 [==============================] - 0s 2ms/step - loss: 0.0676 - val_loss: 0.0719\n",
      "Epoch 5/50\n",
      "25/25 [==============================] - 0s 2ms/step - loss: 0.0634 - val_loss: 0.0825\n",
      "Epoch 6/50\n",
      "25/25 [==============================] - 0s 2ms/step - loss: 0.0614 - val_loss: 0.0643\n",
      "Epoch 7/50\n",
      "25/25 [==============================] - 0s 2ms/step - loss: 0.0567 - val_loss: 0.0582\n",
      "Epoch 8/50\n",
      "25/25 [==============================] - 0s 2ms/step - loss: 0.0515 - val_loss: 0.0559\n",
      "Epoch 9/50\n",
      "25/25 [==============================] - 0s 2ms/step - loss: 0.0515 - val_loss: 0.0558\n",
      "Epoch 10/50\n",
      "25/25 [==============================] - 0s 2ms/step - loss: 0.0487 - val_loss: 0.0583\n",
      "Epoch 11/50\n",
      "25/25 [==============================] - 0s 2ms/step - loss: 0.0440 - val_loss: 0.0571\n",
      "Epoch 12/50\n",
      "25/25 [==============================] - 0s 2ms/step - loss: 0.0500 - val_loss: 0.0618\n",
      "Epoch 13/50\n",
      "25/25 [==============================] - 0s 2ms/step - loss: 0.0438 - val_loss: 0.0504\n",
      "Epoch 14/50\n",
      "25/25 [==============================] - 0s 2ms/step - loss: 0.0423 - val_loss: 0.0511\n",
      "Epoch 15/50\n",
      "25/25 [==============================] - 0s 2ms/step - loss: 0.0410 - val_loss: 0.0540\n",
      "Epoch 16/50\n",
      "25/25 [==============================] - 0s 2ms/step - loss: 0.0426 - val_loss: 0.0507\n",
      "Epoch 17/50\n",
      "25/25 [==============================] - 0s 2ms/step - loss: 0.0388 - val_loss: 0.0529\n",
      "Epoch 18/50\n",
      "25/25 [==============================] - 0s 2ms/step - loss: 0.0440 - val_loss: 0.0547\n",
      "Minimum Validation Loss: 0.0504\n"
     ]
    },
    {
     "data": {
      "image/png": "[encoded data removed]",
      "text/plain": [
       "<Figure size 432x288 with 1 Axes>"
      ]
     },
     "metadata": {
      "needs_background": "light"
     },
     "output_type": "display_data"
    }
   ],
   "source": [
    "model = keras.Sequential([\n",
    "    layers.Dense(128, activation='relu', input_shape=input_shape),\n",
    "    layers.Dense(64, activation='relu'),    \n",
    "    layers.Dense(1)\n",
    "])\n",
    "model.compile(\n",
    "    optimizer='adam',\n",
    "    loss='mae',\n",
    ")\n",
    "history = model.fit(\n",
    "    X_train, y_train,\n",
    "    validation_data=(X_valid, y_valid),\n",
    "    batch_size=32,\n",
    "    epochs=50,\n",
    "    callbacks=[early_stopping]\n",
    ")\n",
    "history_df = pd.DataFrame(history.history)\n",
    "history_df.loc[:, ['loss', 'val_loss']].plot()\n",
    "print(\"Minimum Validation Loss: {:0.4f}\".format(history_df['val_loss'].min()));"
   ]
  },
  {
   "cell_type": "markdown",
   "id": "65129a00",
   "metadata": {},
   "source": [
    "### Dropout"
   ]
  },
  {
   "cell_type": "code",
   "execution_count": 29,
   "id": "cd357bea",
   "metadata": {},
   "outputs": [],
   "source": [
    "X = df.copy()\n",
    "# Remove target\n",
    "y = X.pop('Strength')"
   ]
  },
  {
   "cell_type": "code",
   "execution_count": 30,
   "id": "8fd7db72",
   "metadata": {},
   "outputs": [],
   "source": [
    "X_train, X_valid, y_train, y_valid = train_test_split(X, y, test_size=0.25, random_state=42)"
   ]
  },
  {
   "cell_type": "code",
   "execution_count": 31,
   "id": "696f482f",
   "metadata": {},
   "outputs": [],
   "source": [
    "X_train = preprocessor.fit_transform(X_train)\n",
    "X_valid = preprocessor.transform(X_valid)\n",
    "y_train = y_train / 100 # popularity is on a scale 0-100, so this rescales to 0-1.\n",
    "y_valid = y_valid / 100"
   ]
  },
  {
   "cell_type": "code",
   "execution_count": 32,
   "id": "c2b1e50c",
   "metadata": {},
   "outputs": [
    {
     "name": "stdout",
     "output_type": "stream",
     "text": [
      "Input shape: [8]\n"
     ]
    }
   ],
   "source": [
    "input_shape = [X_train.shape[1]]\n",
    "print(\"Input shape: {}\".format(input_shape))"
   ]
  },
  {
   "cell_type": "code",
   "execution_count": 33,
   "id": "496a0d0d",
   "metadata": {},
   "outputs": [],
   "source": [
    "model = keras.Sequential([\n",
    "    layers.Dense(128, activation='relu', input_shape=input_shape),\n",
    "    layers.Dropout(rate=0.3),\n",
    "    layers.Dense(64, activation='relu'),\n",
    "    layers.Dropout(rate=0.3),\n",
    "    layers.Dense(1)\n",
    "])"
   ]
  },
  {
   "cell_type": "code",
   "execution_count": 34,
   "id": "ee069455",
   "metadata": {},
   "outputs": [
    {
     "name": "stdout",
     "output_type": "stream",
     "text": [
      "Minimum Validation Loss: 0.0577\n"
     ]
    },
    {
     "data": {
      "image/png": "[encoded data removed]",
      "text/plain": [
       "<Figure size 432x288 with 1 Axes>"
      ]
     },
     "metadata": {
      "needs_background": "light"
     },
     "output_type": "display_data"
    }
   ],
   "source": [
    "model.compile(\n",
    "    optimizer='adam',\n",
    "    loss='mae',\n",
    ")\n",
    "history = model.fit(\n",
    "    X_train, y_train,\n",
    "    validation_data=(X_valid, y_valid),\n",
    "    batch_size=32,\n",
    "    epochs=50,\n",
    "    verbose=0,\n",
    ")\n",
    "history_df = pd.DataFrame(history.history)\n",
    "history_df.loc[:, ['loss', 'val_loss']].plot()\n",
    "print(\"Minimum Validation Loss: {:0.4f}\".format(history_df['val_loss'].min()))"
   ]
  },
  {
   "cell_type": "markdown",
   "id": "fe5e8da9",
   "metadata": {},
   "source": [
    "### Add Batch Normalization Layers"
   ]
  },
  {
   "cell_type": "code",
   "execution_count": 35,
   "id": "80517fc7",
   "metadata": {},
   "outputs": [],
   "source": [
    "model = keras.Sequential([\n",
    "    layers.BatchNormalization(input_shape=input_shape),\n",
    "    layers.Dense(256, activation='relu'),\n",
    "    layers.BatchNormalization(),\n",
    "    layers.Dense(256, activation='relu'),\n",
    "    layers.BatchNormalization(),\n",
    "    layers.Dense(256, activation='relu'),\n",
    "    layers.BatchNormalization(),\n",
    "    layers.Dense(1),\n",
    "])"
   ]
  },
  {
   "cell_type": "code",
   "execution_count": 36,
   "id": "bdb44529",
   "metadata": {},
   "outputs": [
    {
     "name": "stdout",
     "output_type": "stream",
     "text": [
      "Minimum Validation Loss: 0.1612\n"
     ]
    },
    {
     "data": {
      "image/png": "[encoded data removed]",
      "text/plain": [
       "<Figure size 432x288 with 1 Axes>"
      ]
     },
     "metadata": {
      "needs_background": "light"
     },
     "output_type": "display_data"
    }
   ],
   "source": [
    "model.compile(\n",
    "    optimizer='sgd',\n",
    "    loss='mae',\n",
    "    metrics=['mae'],\n",
    ")\n",
    "EPOCHS = 50\n",
    "history = model.fit(\n",
    "    X_train, y_train,\n",
    "    validation_data=(X_valid, y_valid),\n",
    "    batch_size=32,\n",
    "    epochs=EPOCHS,\n",
    "    verbose=0,\n",
    ")\n",
    "\n",
    "history_df = pd.DataFrame(history.history)\n",
    "history_df.loc[0:, ['loss', 'val_loss']].plot()\n",
    "print((\"Minimum Validation Loss: {:0.4f}\").format(history_df['val_loss'].min()))"
   ]
  },
  {
   "cell_type": "code",
   "execution_count": null,
   "id": "8a2b1717",
   "metadata": {},
   "outputs": [],
   "source": []
  }
 ],
 "metadata": {
  "kernelspec": {
   "display_name": "Python 3 (ipykernel)",
   "language": "python",
   "name": "python3"
  },
  "language_info": {
   "codemirror_mode": {
    "name": "ipython",
    "version": 3
   },
   "file_extension": ".py",
   "mimetype": "text/x-python",
   "name": "python",
   "nbconvert_exporter": "python",
   "pygments_lexer": "ipython3",
   "version": "3.9.12"
  }
 },
 "nbformat": 4,
 "nbformat_minor": 5
}
